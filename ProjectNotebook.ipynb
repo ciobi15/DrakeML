{
 "cells": [
  {
   "cell_type": "markdown",
   "metadata": {},
   "source": [
    "DrakeML Project"
   ]
  },
  {
   "cell_type": "code",
   "metadata": {
    "ExecuteTime": {
     "end_time": "2025-03-13T23:52:52.530038Z",
     "start_time": "2025-03-13T23:52:52.524037Z"
    }
   },
   "source": [
    "import numpy as np\n",
    "import pandas as pd\n",
    "import os\n",
    "\n",
    "\n",
    "# Set the path to your \"data\" folder\n",
    "data_folder = 'data'\n",
    "\n",
    "# List all files in the \"data\" folder and its subdirectories\n",
    "for dirname, _, filenames in os.walk(data_folder):\n",
    "    for filename in filenames:\n",
    "        print(os.path.join(dirname, filename))\n"
   ],
   "outputs": [
    {
     "name": "stdout",
     "output_type": "stream",
     "text": [
      "data\\drake_data.csv\n",
      "data\\drake_lyrics.txt\n"
     ]
    }
   ],
   "execution_count": 4
  },
  {
   "metadata": {
    "ExecuteTime": {
     "end_time": "2025-03-13T23:53:24.066748Z",
     "start_time": "2025-03-13T23:52:52.561807Z"
    }
   },
   "cell_type": "code",
   "source": [
    "import tensorflow as tf\n",
    "import numpy as np\n",
    "\n",
    "from tensorflow.keras.preprocessing.sequence import pad_sequences\n",
    "from tensorflow.keras.layers import Embedding, LSTM, Dense, Bidirectional\n",
    "from tensorflow.keras.preprocessing.text import Tokenizer\n",
    "from tensorflow.keras.models import Sequential\n",
    "from tensorflow.keras.optimizers import Adam\n",
    "\n"
   ],
   "outputs": [],
   "execution_count": 5
  },
  {
   "metadata": {
    "ExecuteTime": {
     "end_time": "2025-03-13T23:53:24.144067Z",
     "start_time": "2025-03-13T23:53:24.082912Z"
    }
   },
   "cell_type": "code",
   "source": [
    "df = pd.read_csv(\"C:/Users/cioba/OneDrive/Desktop/DrakeML/data/drake_data.csv\")\n",
    "df.head()"
   ],
   "outputs": [
    {
     "data": {
      "text/plain": [
       "                 album                           lyrics_title  \\\n",
       "0  Certified Lover Boy            Certified Lover Boy* Lyrics   \n",
       "1  Certified Lover Boy  Like I’m Supposed To/Do Things Lyrics   \n",
       "2  Certified Lover Boy                      Not Around Lyrics   \n",
       "3  Certified Lover Boy    In the Cut (Ft. Roddy Ricch) Lyrics   \n",
       "4  Certified Lover Boy  Zodiac Sign (Ft. Jessie Reyez) Lyrics   \n",
       "\n",
       "                                          lyrics_url  \\\n",
       "0  https://genius.com/Drake-certified-lover-boy-l...   \n",
       "1  https://genius.com/Drake-like-im-supposed-to-d...   \n",
       "2         https://genius.com/Drake-not-around-lyrics   \n",
       "3         https://genius.com/Drake-in-the-cut-lyrics   \n",
       "4        https://genius.com/Drake-zodiac-sign-lyrics   \n",
       "\n",
       "                                              lyrics track_views  \n",
       "0  [Verse]\\nPut my feelings on ice\\nAlways been a...        8.7K  \n",
       "1  [Verse]\\nHands are tied\\nSomeone's in my ear f...       38.8K  \n",
       "2  [Intro]\\nYeah, we back\\nWassup ladies?\\nSwisha...      129.8K  \n",
       "3  [Intro: Drake]\\nAyy, yeah\\nPipe this shit up a...       72.1K  \n",
       "4  [Verse 1: Drake]\\nYou ask how many girls I bee...       54.8K  "
      ],
      "text/html": [
       "<div>\n",
       "<style scoped>\n",
       "    .dataframe tbody tr th:only-of-type {\n",
       "        vertical-align: middle;\n",
       "    }\n",
       "\n",
       "    .dataframe tbody tr th {\n",
       "        vertical-align: top;\n",
       "    }\n",
       "\n",
       "    .dataframe thead th {\n",
       "        text-align: right;\n",
       "    }\n",
       "</style>\n",
       "<table border=\"1\" class=\"dataframe\">\n",
       "  <thead>\n",
       "    <tr style=\"text-align: right;\">\n",
       "      <th></th>\n",
       "      <th>album</th>\n",
       "      <th>lyrics_title</th>\n",
       "      <th>lyrics_url</th>\n",
       "      <th>lyrics</th>\n",
       "      <th>track_views</th>\n",
       "    </tr>\n",
       "  </thead>\n",
       "  <tbody>\n",
       "    <tr>\n",
       "      <th>0</th>\n",
       "      <td>Certified Lover Boy</td>\n",
       "      <td>Certified Lover Boy* Lyrics</td>\n",
       "      <td>https://genius.com/Drake-certified-lover-boy-l...</td>\n",
       "      <td>[Verse]\\nPut my feelings on ice\\nAlways been a...</td>\n",
       "      <td>8.7K</td>\n",
       "    </tr>\n",
       "    <tr>\n",
       "      <th>1</th>\n",
       "      <td>Certified Lover Boy</td>\n",
       "      <td>Like I’m Supposed To/Do Things Lyrics</td>\n",
       "      <td>https://genius.com/Drake-like-im-supposed-to-d...</td>\n",
       "      <td>[Verse]\\nHands are tied\\nSomeone's in my ear f...</td>\n",
       "      <td>38.8K</td>\n",
       "    </tr>\n",
       "    <tr>\n",
       "      <th>2</th>\n",
       "      <td>Certified Lover Boy</td>\n",
       "      <td>Not Around Lyrics</td>\n",
       "      <td>https://genius.com/Drake-not-around-lyrics</td>\n",
       "      <td>[Intro]\\nYeah, we back\\nWassup ladies?\\nSwisha...</td>\n",
       "      <td>129.8K</td>\n",
       "    </tr>\n",
       "    <tr>\n",
       "      <th>3</th>\n",
       "      <td>Certified Lover Boy</td>\n",
       "      <td>In the Cut (Ft. Roddy Ricch) Lyrics</td>\n",
       "      <td>https://genius.com/Drake-in-the-cut-lyrics</td>\n",
       "      <td>[Intro: Drake]\\nAyy, yeah\\nPipe this shit up a...</td>\n",
       "      <td>72.1K</td>\n",
       "    </tr>\n",
       "    <tr>\n",
       "      <th>4</th>\n",
       "      <td>Certified Lover Boy</td>\n",
       "      <td>Zodiac Sign (Ft. Jessie Reyez) Lyrics</td>\n",
       "      <td>https://genius.com/Drake-zodiac-sign-lyrics</td>\n",
       "      <td>[Verse 1: Drake]\\nYou ask how many girls I bee...</td>\n",
       "      <td>54.8K</td>\n",
       "    </tr>\n",
       "  </tbody>\n",
       "</table>\n",
       "</div>"
      ]
     },
     "execution_count": 6,
     "metadata": {},
     "output_type": "execute_result"
    }
   ],
   "execution_count": 6
  },
  {
   "metadata": {
    "ExecuteTime": {
     "end_time": "2025-03-13T23:53:24.174692Z",
     "start_time": "2025-03-13T23:53:24.160343Z"
    }
   },
   "cell_type": "code",
   "source": [
    "col = ['lyrics']\n",
    "df = df[col]\n",
    "df"
   ],
   "outputs": [
    {
     "data": {
      "text/plain": [
       "                                                lyrics\n",
       "0    [Verse]\\nPut my feelings on ice\\nAlways been a...\n",
       "1    [Verse]\\nHands are tied\\nSomeone's in my ear f...\n",
       "2    [Intro]\\nYeah, we back\\nWassup ladies?\\nSwisha...\n",
       "3    [Intro: Drake]\\nAyy, yeah\\nPipe this shit up a...\n",
       "4    [Verse 1: Drake]\\nYou ask how many girls I bee...\n",
       "..                                                 ...\n",
       "285  Lyrics from cut studio recording\\n\\n[Verse 1: ...\n",
       "286  Lyrics from Snippet\\n\\n[Chorus: Drake & Future...\n",
       "287  [Intro: Quavo]\\nYeah, yeah\\n(Deko)\\nWoah, hold...\n",
       "288  [Intro: Drake]\\nThey wishing, they wishing, th...\n",
       "289  [Intro: Drake]\\n(Sonorous on the beat)\\nAnd I ...\n",
       "\n",
       "[290 rows x 1 columns]"
      ],
      "text/html": [
       "<div>\n",
       "<style scoped>\n",
       "    .dataframe tbody tr th:only-of-type {\n",
       "        vertical-align: middle;\n",
       "    }\n",
       "\n",
       "    .dataframe tbody tr th {\n",
       "        vertical-align: top;\n",
       "    }\n",
       "\n",
       "    .dataframe thead th {\n",
       "        text-align: right;\n",
       "    }\n",
       "</style>\n",
       "<table border=\"1\" class=\"dataframe\">\n",
       "  <thead>\n",
       "    <tr style=\"text-align: right;\">\n",
       "      <th></th>\n",
       "      <th>lyrics</th>\n",
       "    </tr>\n",
       "  </thead>\n",
       "  <tbody>\n",
       "    <tr>\n",
       "      <th>0</th>\n",
       "      <td>[Verse]\\nPut my feelings on ice\\nAlways been a...</td>\n",
       "    </tr>\n",
       "    <tr>\n",
       "      <th>1</th>\n",
       "      <td>[Verse]\\nHands are tied\\nSomeone's in my ear f...</td>\n",
       "    </tr>\n",
       "    <tr>\n",
       "      <th>2</th>\n",
       "      <td>[Intro]\\nYeah, we back\\nWassup ladies?\\nSwisha...</td>\n",
       "    </tr>\n",
       "    <tr>\n",
       "      <th>3</th>\n",
       "      <td>[Intro: Drake]\\nAyy, yeah\\nPipe this shit up a...</td>\n",
       "    </tr>\n",
       "    <tr>\n",
       "      <th>4</th>\n",
       "      <td>[Verse 1: Drake]\\nYou ask how many girls I bee...</td>\n",
       "    </tr>\n",
       "    <tr>\n",
       "      <th>...</th>\n",
       "      <td>...</td>\n",
       "    </tr>\n",
       "    <tr>\n",
       "      <th>285</th>\n",
       "      <td>Lyrics from cut studio recording\\n\\n[Verse 1: ...</td>\n",
       "    </tr>\n",
       "    <tr>\n",
       "      <th>286</th>\n",
       "      <td>Lyrics from Snippet\\n\\n[Chorus: Drake &amp; Future...</td>\n",
       "    </tr>\n",
       "    <tr>\n",
       "      <th>287</th>\n",
       "      <td>[Intro: Quavo]\\nYeah, yeah\\n(Deko)\\nWoah, hold...</td>\n",
       "    </tr>\n",
       "    <tr>\n",
       "      <th>288</th>\n",
       "      <td>[Intro: Drake]\\nThey wishing, they wishing, th...</td>\n",
       "    </tr>\n",
       "    <tr>\n",
       "      <th>289</th>\n",
       "      <td>[Intro: Drake]\\n(Sonorous on the beat)\\nAnd I ...</td>\n",
       "    </tr>\n",
       "  </tbody>\n",
       "</table>\n",
       "<p>290 rows × 1 columns</p>\n",
       "</div>"
      ]
     },
     "execution_count": 7,
     "metadata": {},
     "output_type": "execute_result"
    }
   ],
   "execution_count": 7
  },
  {
   "metadata": {
    "ExecuteTime": {
     "end_time": "2025-03-13T23:53:24.221222Z",
     "start_time": "2025-03-13T23:53:24.207690Z"
    }
   },
   "cell_type": "code",
   "source": [
    "# How many reviews do we have?\n",
    "print('There are', df.shape[0], 'data in this dataset')\n",
    "\n",
    "# Do we have duplicates?\n",
    "print('Number of Duplicates:', len(df[df.duplicated()]))\n",
    "\n",
    "# Do we have missing values?\n",
    "missing_values = df.isnull().sum()\n",
    "print('Number of Missing Values by column:\\n',missing_values)\n",
    "\n",
    "print('Number of Missing Values:', df.isnull().sum().sum())\n",
    "\n",
    "df.replace(\"\", np.nan, inplace=True)\n",
    "missing_values = df.isnull().sum()\n",
    "print('Number of Missing Values and Empty Spaces by column:\\n',missing_values)"
   ],
   "outputs": [
    {
     "name": "stdout",
     "output_type": "stream",
     "text": [
      "There are 290 data in this dataset\n",
      "Number of Duplicates: 13\n",
      "Number of Missing Values by column:\n",
      " lyrics    2\n",
      "dtype: int64\n",
      "Number of Missing Values: 2\n",
      "Number of Missing Values and Empty Spaces by column:\n",
      " lyrics    2\n",
      "dtype: int64\n"
     ]
    }
   ],
   "execution_count": 8
  },
  {
   "metadata": {
    "ExecuteTime": {
     "end_time": "2025-03-13T23:53:24.299217Z",
     "start_time": "2025-03-13T23:53:24.286218Z"
    }
   },
   "cell_type": "code",
   "source": [
    "# First, get all duplicate rows (keep=False ensures all duplicates are kept)\n",
    "duplicate_rows = df[df.duplicated(keep=False)]\n",
    "\n",
    "# Then sort the dataframe on all columns to ensure duplicates are adjacent\n",
    "sorted_duplicates = duplicate_rows.sort_values(by=list(duplicate_rows.columns))\n",
    "\n",
    "# Now, if we want to see 5 pairs of duplicates (10 rows), we can simply:\n",
    "top_5_duplicate_pairs = sorted_duplicates.head(20)\n",
    "\n",
    "top_5_duplicate_pairs"
   ],
   "outputs": [
    {
     "data": {
      "text/plain": [
       "                                                lyrics\n",
       "24   [Intro: Drake & Sampha]\\nIt's not me and you, ...\n",
       "146  [Intro: Drake & Sampha]\\nIt's not me and you, ...\n",
       "225  [Intro: Drake]\\nI do this for ya'll man\\nMalic...\n",
       "258  [Intro: Drake]\\nI do this for ya'll man\\nMalic...\n",
       "203  [Intro: Lil Wayne]\\nYeah\\nUh-huh\\n\\n[Verse 1: ...\n",
       "188  [Intro: Lil Wayne]\\nYeah\\nUh-huh\\n\\n[Verse 1: ...\n",
       "6    [Intro: Pimp C]\\nMan, get the fuck away from u...\n",
       "264  [Intro: Pimp C]\\nMan, get the fuck away from u...\n",
       "186  [Intro: Trey Songz]\\nThe money (Money), cars (...\n",
       "194  [Intro: Trey Songz]\\nThe money (Money), cars (...\n",
       "67   [Intro]\\nAnd they wishin' and wishin' and wish...\n",
       "46   [Intro]\\nAnd they wishin' and wishin' and wish...\n",
       "129  [Intro]\\nThat's the shit I'm talking 'bout tho...\n",
       "25   [Intro]\\nThat's the shit I'm talking 'bout tho...\n",
       "32   [Intro]\\nYeah, that's about it\\nThis shit soun...\n",
       "130  [Intro]\\nYeah, that's about it\\nThis shit soun...\n",
       "201  [Intro]\\nYou know, a lot of girls be\\nThinkin'...\n",
       "187  [Intro]\\nYou know, a lot of girls be\\nThinkin'...\n",
       "185  [Verse 1]\\nHey there, pretty girl\\nYou know ex...\n",
       "193  [Verse 1]\\nHey there, pretty girl\\nYou know ex..."
      ],
      "text/html": [
       "<div>\n",
       "<style scoped>\n",
       "    .dataframe tbody tr th:only-of-type {\n",
       "        vertical-align: middle;\n",
       "    }\n",
       "\n",
       "    .dataframe tbody tr th {\n",
       "        vertical-align: top;\n",
       "    }\n",
       "\n",
       "    .dataframe thead th {\n",
       "        text-align: right;\n",
       "    }\n",
       "</style>\n",
       "<table border=\"1\" class=\"dataframe\">\n",
       "  <thead>\n",
       "    <tr style=\"text-align: right;\">\n",
       "      <th></th>\n",
       "      <th>lyrics</th>\n",
       "    </tr>\n",
       "  </thead>\n",
       "  <tbody>\n",
       "    <tr>\n",
       "      <th>24</th>\n",
       "      <td>[Intro: Drake &amp; Sampha]\\nIt's not me and you, ...</td>\n",
       "    </tr>\n",
       "    <tr>\n",
       "      <th>146</th>\n",
       "      <td>[Intro: Drake &amp; Sampha]\\nIt's not me and you, ...</td>\n",
       "    </tr>\n",
       "    <tr>\n",
       "      <th>225</th>\n",
       "      <td>[Intro: Drake]\\nI do this for ya'll man\\nMalic...</td>\n",
       "    </tr>\n",
       "    <tr>\n",
       "      <th>258</th>\n",
       "      <td>[Intro: Drake]\\nI do this for ya'll man\\nMalic...</td>\n",
       "    </tr>\n",
       "    <tr>\n",
       "      <th>203</th>\n",
       "      <td>[Intro: Lil Wayne]\\nYeah\\nUh-huh\\n\\n[Verse 1: ...</td>\n",
       "    </tr>\n",
       "    <tr>\n",
       "      <th>188</th>\n",
       "      <td>[Intro: Lil Wayne]\\nYeah\\nUh-huh\\n\\n[Verse 1: ...</td>\n",
       "    </tr>\n",
       "    <tr>\n",
       "      <th>6</th>\n",
       "      <td>[Intro: Pimp C]\\nMan, get the fuck away from u...</td>\n",
       "    </tr>\n",
       "    <tr>\n",
       "      <th>264</th>\n",
       "      <td>[Intro: Pimp C]\\nMan, get the fuck away from u...</td>\n",
       "    </tr>\n",
       "    <tr>\n",
       "      <th>186</th>\n",
       "      <td>[Intro: Trey Songz]\\nThe money (Money), cars (...</td>\n",
       "    </tr>\n",
       "    <tr>\n",
       "      <th>194</th>\n",
       "      <td>[Intro: Trey Songz]\\nThe money (Money), cars (...</td>\n",
       "    </tr>\n",
       "    <tr>\n",
       "      <th>67</th>\n",
       "      <td>[Intro]\\nAnd they wishin' and wishin' and wish...</td>\n",
       "    </tr>\n",
       "    <tr>\n",
       "      <th>46</th>\n",
       "      <td>[Intro]\\nAnd they wishin' and wishin' and wish...</td>\n",
       "    </tr>\n",
       "    <tr>\n",
       "      <th>129</th>\n",
       "      <td>[Intro]\\nThat's the shit I'm talking 'bout tho...</td>\n",
       "    </tr>\n",
       "    <tr>\n",
       "      <th>25</th>\n",
       "      <td>[Intro]\\nThat's the shit I'm talking 'bout tho...</td>\n",
       "    </tr>\n",
       "    <tr>\n",
       "      <th>32</th>\n",
       "      <td>[Intro]\\nYeah, that's about it\\nThis shit soun...</td>\n",
       "    </tr>\n",
       "    <tr>\n",
       "      <th>130</th>\n",
       "      <td>[Intro]\\nYeah, that's about it\\nThis shit soun...</td>\n",
       "    </tr>\n",
       "    <tr>\n",
       "      <th>201</th>\n",
       "      <td>[Intro]\\nYou know, a lot of girls be\\nThinkin'...</td>\n",
       "    </tr>\n",
       "    <tr>\n",
       "      <th>187</th>\n",
       "      <td>[Intro]\\nYou know, a lot of girls be\\nThinkin'...</td>\n",
       "    </tr>\n",
       "    <tr>\n",
       "      <th>185</th>\n",
       "      <td>[Verse 1]\\nHey there, pretty girl\\nYou know ex...</td>\n",
       "    </tr>\n",
       "    <tr>\n",
       "      <th>193</th>\n",
       "      <td>[Verse 1]\\nHey there, pretty girl\\nYou know ex...</td>\n",
       "    </tr>\n",
       "  </tbody>\n",
       "</table>\n",
       "</div>"
      ]
     },
     "execution_count": 9,
     "metadata": {},
     "output_type": "execute_result"
    }
   ],
   "execution_count": 9
  },
  {
   "metadata": {
    "ExecuteTime": {
     "end_time": "2025-03-13T23:53:24.361218Z",
     "start_time": "2025-03-13T23:53:24.353246Z"
    }
   },
   "cell_type": "code",
   "source": [
    "df = df.dropna()\n",
    "print('Number of Missing Values:', df.isnull().sum().sum())"
   ],
   "outputs": [
    {
     "name": "stdout",
     "output_type": "stream",
     "text": [
      "Number of Missing Values: 0\n"
     ]
    }
   ],
   "execution_count": 10
  },
  {
   "metadata": {
    "ExecuteTime": {
     "end_time": "2025-03-13T23:53:24.517217Z",
     "start_time": "2025-03-13T23:53:24.502217Z"
    }
   },
   "cell_type": "code",
   "source": [
    "df = df.drop_duplicates()\n",
    "print('Number of Duplicates:', len(df[df.duplicated()]))"
   ],
   "outputs": [
    {
     "name": "stdout",
     "output_type": "stream",
     "text": [
      "Number of Duplicates: 0\n"
     ]
    }
   ],
   "execution_count": 11
  },
  {
   "metadata": {
    "ExecuteTime": {
     "end_time": "2025-03-13T23:53:24.625584Z",
     "start_time": "2025-03-13T23:53:24.611595Z"
    }
   },
   "cell_type": "code",
   "source": [
    "lyrics_list = df['lyrics'].tolist()\n",
    "lyrics_list[:3]"
   ],
   "outputs": [
    {
     "data": {
      "text/plain": [
       "[\"[Verse]\\nPut my feelings on ice\\nAlways been a gem\\nCertified lover boy, somehow still heartless\\nHeart is only gettin' colder\",\n",
       " \"[Verse]\\nHands are tied\\nSomeone's in my ear from the other side\\nTellin' me that I should pay you no mind\\nWanted you to not be with me all night\\nWanted you to not stay with me all night\\nI know, you know, who that person is to me\\nDoesn't really change things\\n\\n[Chorus]\\nI know you're scared of dating, falling for me\\nShorty, surely you know me\\nRight here for you always\\nYou know, I don't ever change\\nRight here for you always\\nYou know I don't ever change\\nRight here for you\\n\\n[Bridge]\\nIn mind you make me want to do things, love you\\nLike I'm supposed to\\nYou make me want to love you\\nLike I'm supposed to\\nYou make me want to love you\\nLike I'm supposed to, remind you\\nAyy\\n\\n[Chorus]\\nI know you're scared of dating, falling for me\\nShorty, by now you know me\\nRight here for you always\\nYou know, I don't ever change\\nRight here for you always\\nYou know I don't ever change\\nRight here for you\",\n",
       " \"[Intro]\\nYeah, we back\\nWassup ladies?\\nSwishahouse, baby\\nWassup to all the ladies on the Northside, Southside, Eastside, Westside?\\nWassup\\u2005in\\u2005Bay City?\\nWassup to\\u2005all the ladies in Louisiana?\\nWassup to\\u2005all the ladies in Dallas, Austin, San Antonio?\\nMarshall, Prairie View,\\u205fit's\\u205fgoing\\u205fdown\\nWharton County, Texas\\u205fCity, H-Town, baby\\nTSU\\u205fladies\\n\\n[Chorus]\\nShe moved out of state, and shit done went left, she's seekin' forgiveness\\nShe used to dance, but she want a loan and start up a business\\nHer daddy is not around, her momma is not around\\nI watch her climb to the top of the pole and then get to slidin' down\\nI make it rain in this bitch, I make it snow in this bitch\\nShe tryna get out of the mix\\nShawty is goin' legit, shawty is goin' legit\\nMe, I'm supportin' this shit, this is a story\\nCame from my life and I'm just recordin' this shit\\n\\n[Verse 1]\\nI'ma just give it to you direct, instead of me throwin' this shit\\nYou know you important and shit\\nYou know I'm supportin' this shit\\nWe used to do pornos when you would come over but now you got morals and shit\\nI got like four on the wrist and an adorable kid\\nI got the drac' in the studio and I don't just mean that I'm in this bitch\\nPlease make the most of this shit\\nDon't just come close to some shit\\nI give you this bread, you run me some head\\nAnd then you go glow up a bit\\n\\n[Chorus]\\nShe moved out of state, and shit done went left, she's seekin' forgiveness\\nShe used to dance, but she want a loan and start up a business\\nHer daddy is not around, her momma is not around\\nI watch her climb to the top of the pole and then get to sli-\\nI make it rain in this bitch, I make it snow in this bitch\\nShe tryna get out of the mix\\nShawty is goin' legit, shawty is goin' legit\\nMe, I'm supportin' this shit, this is a story\\nCame from my life and I'm just recordin' this shit\\n\\n[Verse 2]\\nHer daddy is not around, momma is definitely not around\\nShe got a business plan, but she just ain't had time to write it down\\nStay with her sister now, she got a man, but he out of town\\nSoon as he out of town, they hop in his whip and they ride around\\nI watch her climb to the top of the pole and then get to slidin', slidin'\\nThought about trappin' a player before, but that just ain't right, right\\nLook in the mirror if you wanna look at some things on the bright side\\nYou popped a 325, you feelin' too good to worry tonight\\n\\n[Chorus]\\nShe moved out of state, and shit done went left, she's seekin' forgiveness\\nShe used to dance, but she want a loan and start up a business\\nHer daddy is not around, her momma is not around\\nI watch her climb to the top of the pole and then get to sli-\\nI make it rain in this bitch, I make it snow in this bitch\\nShe tryna get out of the mix\\nShawty is goin' legit, shawty is goin' legit\\nMe, I'm supportin' this shit, this is a story\\nCame for my life and I'm just recordin' this shit\"]"
      ]
     },
     "execution_count": 12,
     "metadata": {},
     "output_type": "execute_result"
    }
   ],
   "execution_count": 12
  },
  {
   "metadata": {
    "ExecuteTime": {
     "end_time": "2025-03-13T23:53:24.702065Z",
     "start_time": "2025-03-13T23:53:24.688065Z"
    }
   },
   "cell_type": "code",
   "source": [
    "import re\n",
    "\n",
    "cleaned_lyrics_list = []\n",
    "for song_lyrics in lyrics_list:\n",
    "    # remove square brackets and their contents\n",
    "    no_brackets = re.sub(r'\\[.*?\\]', '', song_lyrics)\n",
    "    # replace slashes with spaces\n",
    "    no_slashes = re.sub(r'/', ' ', no_brackets)\n",
    "    # split the cleaned lyrics into separate lines\n",
    "    lines = no_slashes.split('\\n')\n",
    "    # remove any remaining empty lines\n",
    "    lines = [line for line in lines if line.strip() != '']\n",
    "    cleaned_lyrics_list.extend(lines)\n",
    "\n",
    "cleaned_lyrics_list[:3]"
   ],
   "outputs": [
    {
     "data": {
      "text/plain": [
       "['Put my feelings on ice',\n",
       " 'Always been a gem',\n",
       " 'Certified lover boy, somehow still heartless']"
      ]
     },
     "execution_count": 13,
     "metadata": {},
     "output_type": "execute_result"
    }
   ],
   "execution_count": 13
  },
  {
   "metadata": {
    "ExecuteTime": {
     "end_time": "2025-03-13T23:53:24.717841Z",
     "start_time": "2025-03-13T23:53:24.706317Z"
    }
   },
   "cell_type": "code",
   "source": "cleaned_lyrics_list = cleaned_lyrics_list[:len(cleaned_lyrics_list)//4]",
   "outputs": [],
   "execution_count": 14
  },
  {
   "metadata": {
    "ExecuteTime": {
     "end_time": "2025-03-13T23:53:24.763569Z",
     "start_time": "2025-03-13T23:53:24.749430Z"
    }
   },
   "cell_type": "code",
   "source": [
    "with open('lyrics.txt', 'w', encoding='utf-8') as file:\n",
    "    for line in cleaned_lyrics_list:\n",
    "        file.write(str(line) + '\\n')\n"
   ],
   "outputs": [],
   "execution_count": 15
  },
  {
   "metadata": {
    "ExecuteTime": {
     "end_time": "2025-03-13T23:53:24.779572Z",
     "start_time": "2025-03-13T23:53:24.767571Z"
    }
   },
   "cell_type": "code",
   "source": [
    "# Load the dataset with UTF-8 encoding\n",
    "data = open('C:/Users/cioba/OneDrive/Desktop/DrakeML/lyrics.txt', encoding='utf-8').read()\n",
    "\n",
    "# Lowercase and split the text\n",
    "corpus = data.lower().split(\"\\n\")\n",
    "\n",
    "# Preview the result\n",
    "print(corpus[:3])\n"
   ],
   "outputs": [
    {
     "name": "stdout",
     "output_type": "stream",
     "text": [
      "['put my feelings on ice', 'always been a gem', 'certified lover boy, somehow still heartless']\n"
     ]
    }
   ],
   "execution_count": 16
  },
  {
   "metadata": {
    "ExecuteTime": {
     "end_time": "2025-03-13T23:53:24.843093Z",
     "start_time": "2025-03-13T23:53:24.796586Z"
    }
   },
   "cell_type": "code",
   "source": [
    "# Initialize the Tokenizer class\n",
    "tokenizer = Tokenizer()\n",
    "\n",
    "# Generate the word index dictionary\n",
    "tokenizer.fit_on_texts(corpus)\n",
    "\n",
    "# Define the total words. You add 1 for the index `0` which is just the padding token.\n",
    "total_words = len(tokenizer.word_index) + 1\n",
    "\n",
    "print(f'word index dictionary: {tokenizer.word_index}')\n",
    "print(f'total words: {total_words}')"
   ],
   "outputs": [
    {
     "name": "stdout",
     "output_type": "stream",
     "text": [
      "word index dictionary: {'i': 1, 'you': 2, 'the': 3, 'to': 4, 'me': 5, 'and': 6, 'a': 7, 'it': 8, 'my': 9, 'that': 10, \"i'm\": 11, 'in': 12, 'on': 13, 'yeah': 14, 'for': 15, 'know': 16, 'like': 17, 'they': 18, 'is': 19, 'of': 20, 'up': 21, 'all': 22, 'with': 23, 'got': 24, 'just': 25, 'this': 26, \"it's\": 27, \"don't\": 28, 'we': 29, 'your': 30, 'but': 31, 'shit': 32, 'when': 33, 'get': 34, 'no': 35, 'be': 36, 'oh': 37, 'now': 38, 'ayy': 39, 'niggas': 40, 'out': 41, 'baby': 42, 'what': 43, 'do': 44, 'back': 45, 'love': 46, 'she': 47, 'was': 48, 'gotta': 49, 'man': 50, 'at': 51, 'from': 52, 'not': 53, 'say': 54, 'so': 55, 'never': 56, \"'cause\": 57, \"that's\": 58, 'one': 59, 'time': 60, 'how': 61, 'too': 62, 'fuck': 63, 'right': 64, 'where': 65, 'had': 66, 'make': 67, 'if': 68, 'down': 69, \"ain't\": 70, 'way': 71, 'nigga': 72, 'can': 73, 'then': 74, \"can't\": 75, 'go': 76, 'tell': 77, 'ooh': 78, 'been': 79, 'wanna': 80, 'need': 81, 'still': 82, 'some': 83, 'more': 84, 'these': 85, 'even': 86, 'could': 87, 'her': 88, 'see': 89, 'take': 90, 'really': 91, 'want': 92, 'things': 93, \"you're\": 94, 'are': 95, 'real': 96, 'who': 97, 'girl': 98, 'over': 99, 'off': 100, 'said': 101, 'there': 102, 'always': 103, 'let': 104, 'give': 105, 'think': 106, 'about': 107, 'why': 108, 'hit': 109, 'them': 110, 'or': 111, 'here': 112, 'around': 113, \"'em\": 114, 'boy': 115, 'only': 116, 'come': 117, 'tryna': 118, \"'bout\": 119, 'have': 120, 'name': 121, \"what's\": 122, 'put': 123, 'he': 124, 'money': 125, 'life': 126, 'look': 127, 'show': 128, 'thing': 129, 'feel': 130, \"i've\": 131, 'left': 132, 'ya': 133, 'guess': 134, \"i'll\": 135, 'good': 136, 'call': 137, 'did': 138, 'than': 139, 'already': 140, 'keep': 141, 'side': 142, 'as': 143, \"fuckin'\": 144, 'through': 145, 'ever': 146, 'top': 147, 'lot': 148, 'bitch': 149, \"sayin'\": 150, 'bad': 151, 'ha': 152, 'stay': 153, 'used': 154, 'other': 155, 'new': 156, 'by': 157, 'would': 158, 'two': 159, 'much': 160, \"somethin'\": 161, 'people': 162, 'again': 163, 'am': 164, 'play': 165, 'though': 166, 'us': 167, 'phone': 168, 'uh': 169, 'woah': 170, 'every': 171, 'free': 172, 'told': 173, 'slide': 174, 'live': 175, \"hannenin'\": 176, \"wishin'\": 177, 'done': 178, \"i'ma\": 179, 'die': 180, \"won't\": 181, 'ass': 182, 'trust': 183, 'smoke': 184, 'head': 185, 'turn': 186, 'friends': 187, \"gon'\": 188, 'day': 189, 'after': 190, \"you'll\": 191, 'mind': 192, \"goin'\": 193, 'came': 194, 'myself': 195, 'home': 196, 'try': 197, 'okay': 198, 'him': 199, 'talk': 200, 'face': 201, 'care': 202, 'sick': 203, \"gettin'\": 204, 'mine': 205, 'our': 206, 'cry': 207, 'crazy': 208, 'leave': 209, 'heart': 210, 'should': 211, 'dance': 212, 'shawty': 213, 'before': 214, 'might': 215, 'girls': 216, 'took': 217, \"'til\": 218, \"doin'\": 219, 'seen': 220, 'last': 221, 'lonely': 222, 'outside': 223, 'young': 224, \"let's\": 225, 'will': 226, 'hold': 227, \"lookin'\": 228, 'motion': 229, 'city': 230, 'went': 231, 'run': 232, 'thought': 233, 'times': 234, 'hear': 235, 'whole': 236, 'house': 237, 'game': 238, 'find': 239, 'stuck': 240, 'different': 241, 'first': 242, 'started': 243, 'foot': 244, 'dark': 245, 'an': 246, 'mean': 247, 'somebody': 248, 'long': 249, 'better': 250, 'miss': 251, 'everything': 252, 'women': 253, \"there's\": 254, 'stop': 255, 'woo': 256, 'bitches': 257, 'old': 258, 'jump': 259, 'nah': 260, 'own': 261, 'road': 262, 'nice': 263, 'yes': 264, 'night': 265, 'change': 266, 'watch': 267, 'ask': 268, 'bring': 269, 'lie': 270, 'without': 271, 'enough': 272, \"takin'\": 273, 'made': 274, 'nobody': 275, 'aw': 276, 'tat': 277, 'moment': 278, \"breakin'\": 279, 'town': 280, 'start': 281, 'remember': 282, 'drake': 283, 'because': 284, 'inside': 285, \"wasn't\": 286, 'couple': 287, 'same': 288, 'summer': 289, 'another': 290, 'sometimes': 291, 'crib': 292, 'hard': 293, 'either': 294, 'help': 295, \"smokin'\": 296, 'their': 297, 'place': 298, 'days': 299, 'late': 300, 'heat': 301, 'bass': 302, 'whoa': 303, 'brea–': 304, \"you'd\": 305, \"she's\": 306, 'damn': 307, 'cut': 308, 'lost': 309, 'gave': 310, 'many': 311, \"talkin'\": 312, 'since': 313, 'hate': 314, 'end': 315, \"you've\": 316, 'work': 317, 'soul': 318, 'next': 319, 'big': 320, 'year': 321, 'hot': 322, \"y'all\": 323, \"spinnin'\": 324, 'blue': 325, 'pay': 326, 'four': 327, 'most': 328, 'whip': 329, 'ride': 330, 'tonight': 331, 'family': 332, 'five': 333, 'hundred': 334, 'into': 335, 'listen': 336, \"makin'\": 337, 'well': 338, 'sound': 339, 'broke': 340, \"rollin'\": 341, 'sure': 342, \"who's\": 343, 'maybe': 344, 'tried': 345, 'alone': 346, 'someone': 347, 'chicken': 348, \"kickin'\": 349, 'g': 350, 'ice': 351, 'business': 352, 'whatever': 353, 'six': 354, 'ties': 355, 'high': 356, 'line': 357, \"playin'\": 358, 'block': 359, 'believe': 360, \"nothin'\": 361, 'lotta': 362, 'turned': 363, 'lights': 364, 'heard': 365, 'probably': 366, \"should've\": 367, 'little': 368, 'move': 369, 'hand': 370, 'safe': 371, 'pop': 372, 'wait': 373, 'rest': 374, 'axl': 375, \"he's\": 376, 'hoes': 377, 'matter': 378, 'hands': 379, 'story': 380, 'plan': 381, 'truth': 382, \"didn't\": 383, 'drizzy': 384, 'thirty': 385, 'years': 386, 'gonna': 387, 'half': 388, \"lil'\": 389, 'away': 390, 'world': 391, \"comin'\": 392, 'going': 393, \"i'd\": 394, 'those': 395, 'sorry': 396, 'straight': 397, 'black': 398, 'double': 399, 'happen': 400, 'baow': 401, 'body': 402, 'outta': 403, \"would've\": 404, 'deal': 405, \"we're\": 406, 'birthday': 407, 'wanted': 408, 'daddy': 409, 'kid': 410, 'gang': 411, 'guys': 412, \"bein'\": 413, 'felt': 414, 'were': 415, \"movin'\": 416, 'rather': 417, 'wrong': 418, 'sit': 419, 'beside': 420, 'knew': 421, 'god': 422, 'fast': 423, 'yourself': 424, 'cold': 425, 'three': 426, 'set': 427, 'check': 428, 'lean': 429, 'alright': 430, 'wish': 431, 'song': 432, 'anybody': 433, \"couldn't\": 434, 'anything': 435, 'fivi': 436, 'gets': 437, 'stand': 438, 'scared': 439, 'please': 440, \"feelin'\": 441, 'buy': 442, 'funny': 443, 'number': 444, \"askin'\": 445, \"'fore\": 446, 'laugh': 447, \"wouldn't\": 448, 'save': 449, 'busy': 450, 'jackson': 451, 'none': 452, 'dangerous': 453, 'type': 454, 'today': 455, 'mother': 456, 'touch': 457, 'dirty': 458, 'else': 459, 'desires': 460, 'control': 461, 'music': 462, 'caught': 463, 'front': 464, \"i'm—\": 465, 'met': 466, 'drop': 467, 'brr': 468, 'peace': 469, 'lord': 470, 'champagne': 471, 'send': 472, 'issues': 473, 'everybody': 474, 'true': 475, 'yours': 476, 'door': 477, 'aww': 478, \"doesn't\": 479, 'supposed': 480, 'rain': 481, 'legit': 482, 'both': 483, 'slow': 484, 'trip': 485, 'ghost': 486, 'tired': 487, 'club': 488, 'best': 489, 'bet': 490, 'has': 491, 'michael': 492, \"workin'\": 493, 'brother': 494, 'light': 495, 'fall': 496, 'jaded': 497, 'accept': 498, 'clean': 499, 'respect': 500, 'pain': 501, 'word': 502, 'million': 503, '6': 504, \"livin'\": 505, 'meet': 506, 'truck': 507, 'goes': 508, 'deeply': 509, \"actin'\": 510, 'ring': 511, 'turnt': 512, 'woi': 513, 'oi': 514, 'beat': 515, 'shots': 516, 'lift': 517, 'being': 518, 'plugg': 519, 'sosa': 520, 'demons': 521, 'link': 522, 'apart': 523, 'swear': 524, 'gone': 525, 'brothers': 526, 'sudden': 527, 'boys': 528, 'pictures': 529, 'anymore': 530, \"leavin'\": 531, 'fifty': 532, 'gyeah': 533, 'does': 534, 'heart–': 535, 'southside': 536, 'close': 537, 'his': 538, 'luck': 539, 'while': 540, 'ysl': 541, 'huh': 542, 'don’t': 543, 'prolly': 544, 'pride': 545, 'sleep': 546, 'blame': 547, 'numbers': 548, 'hood': 549, 'dead': 550, 'catch': 551, 'hope': 552, 'open': 553, 'white': 554, 'break': 555, \"switchin'\": 556, '6ix': 557, 'question': 558, 'later': 559, 'code': 560, 'past': 561, \"we'll\": 562, 'viral': 563, \"tryin'\": 564, 'bigger': 565, \"hurtin'\": 566, 'ten': 567, 'thousand': 568, 'opps': 569, 'd': 570, 'forget': 571, 'feeling': 572, 'stories': 573, 'problems': 574, 'threw': 575, 'certain': 576, 'land': 577, 'bought': 578, 'faces': 579, 'ways': 580, \"haven't\": 581, 'month': 582, 'moody': 583, 'ends': 584, 'movie': 585, 'less': 586, 'drink': 587, 'fucking': 588, 'dog': 589, 'nothing': 590, 'that’s': 591, 'flow': 592, \"missin'\": 593, 'higher': 594, 'rap': 595, \"jodeci's\": 596, 'joke': 597, 'kiss': 598, 'skrr': 599, 'bend': 600, 'clap': 601, 'feelings': 602, 'lover': 603, 'shorty': 604, 'state': 605, 'snow': 606, 'wrist': 607, 'diamonds': 608, 'it’s': 609, 'sides': 610, 'behind': 611, 'guy': 612, 'between': 613, \"isn't\": 614, 'lies': 615, 'r': 616, 'p': 617, 'spot': 618, \"chasin'\": 619, 'east': 620, 'plenty': 621, 'deep': 622, 'pockets': 623, \"seein'\": 624, 'win': 625, 'mad': 626, 'men': 627, 'chubbs': 628, 'seem': 629, 'found': 630, 'yo': 631, 'trap': 632, 'rose': 633, 'street': 634, 'lose': 635, 'texas': 636, 'needed': 637, \"'round\": 638, 'a—': 639, 'stick': 640, 'closed': 641, 'fbg': 642, 'skrrt': 643, 'racks': 644, 'death': 645, 'x': 646, 'shot': 647, 'i’m': 648, 'cup': 649, 'played': 650, 'paid': 651, 'ting': 652, 'games': 653, 'coming': 654, 'pussy': 655, 'drank': 656, \"thinkin'\": 657, 'bed': 658, 'count': 659, 'school': 660, 'read': 661, 'trying': 662, 'flows': 663, 'spirit': 664, \"one's\": 665, 'post': 666, 'ex': 667, 'wifey': 668, 'bros': 669, 'short': 670, '—': 671, 'kept': 672, 'dogs': 673, 'finesse': 674, 'celebration': 675, 'tint': 676, 'riding': 677, 'ladies': 678, 'moved': 679, 'momma': 680, 'mix': 681, 'studio': 682, 'soon': 683, 'worry': 684, \"knockin'\": 685, 'mob': 686, 'everyone': 687, 'lately': 688, 'honest': 689, 'waste': 690, 'party': 691, 'ran': 692, 'must': 693, 'case': 694, 'granted': 695, 'excite': 696, 'homie': 697, \"waitin'\": 698, 'fucked': 699, 'finally': 700, 'ready': 701, 'reason': 702, \"fallin'\": 703, 'grab': 704, 'comes': 705, 'coulda': 706, 'wonder': 707, 'mama': 708, \"runnin'\": 709, 'empty': 710, 'early': 711, 'until': 712, 'team': 713, 'plans': 714, 'car': 715, 'brought': 716, 'cover': 717, 'understand': 718, 'watched': 719, 'treat': 720, \"that'll\": 721, 'floor': 722, 'facts': 723, 'whenever': 724, 'visit': 725, 'room': 726, 'drunk': 727, 'j': 728, 'minute': 729, \"watchin'\": 730, 'meant': 731, 'leather': 732, 'basically': 733, 'thug': 734, 'passion': 735, 'piece': 736, 'ferrari': 737, 'places': 738, 'déjà': 739, 'angles': 740, 'wrote': 741, 'pen': 742, 'rollie': 743, 'gold': 744, \"showin'\": 745, 'dollars': 746, 'ovo': 747, 'bag': 748, 'bentley': 749, 'least': 750, 'pulled': 751, 'york': 752, 'something': 753, 'sense': 754, 'fashion': 755, 'weezy': 756, 'drew': 757, 'league': 758, 'names': 759, 'pick': 760, 'ho': 761, 'course': 762, 'part': 763, 'bunch': 764, 'mention': 765, 'roll': 766, 'to—': 767, 'married': 768, 'words': 769, 'wild': 770, 'kinda': 771, 'weak': 772, 'ones': 773, 'working': 774, 'become': 775, 'patient': 776, 'lil': 777, 'swim': 778, \"god's\": 779, 'fe–': 780, 'ohhhh': 781, 'miles': 782, 'neck': 783, 'passionate': 784, 'price': 785, 'takes': 786, 'changing': 787, 'dun': 788, 'eh': 789, 'wassup': 790, 'dallas': 791, 'climb': 792, 'pole': 793, \"supportin'\": 794, 'direct': 795, \"throwin'\": 796, 'write': 797, 'cannot': 798, 'pull': 799, 'haha': 800, 'chanel': 801, 'miami': 802, 'cartier': 803, 'knock': 804, 'ain’t': 805, 'houston': 806, 'hang': 807, 'wave': 808, 'nights': 809, 'ago': 810, 'tough': 811, 'point': 812, 'hotel': 813, 'decide': 814, 'practice': 815, 'switch': 816, 'songs': 817, 'rapper': 818, \"lyin'\": 819, 'harder': 820, 'race': 821, 'burn': 822, 'reach': 823, 'blood': 824, 'bus': 825, 'feels': 826, \"buildin'\": 827, 'second': 828, \"keepin'\": 829, 'eye': 830, 'weeks': 831, 'fill': 832, 'charts': 833, 'hunnid': 834, \"givin'\": 835, 'hype': 836, 'bitter': 837, \"could've\": 838, 'hahaha': 839, 'kisses': 840, 'tight': 841, 'lobby': 842, 'changed': 843, 'sunday': 844, 'monday': 845, 'grow': 846, 'limit': 847, 'angel': 848, 'wavy': 849, 'flipped': 850, 'nike': 851, \"stayin'\": 852, \"trippin'\": 853, 'solo': 854, 'mansion': 855, 'sticks': 856, 'stayed': 857, 'amg': 858, 'tt': 859, 'quick': 860, 'louis': 861, 'stunna': 862, 'drugs': 863, \"motherfuckin'\": 864, 'crodie': 865, 'williams': 866, 'slatt': 867, 'famous': 868, 'liquor': 869, 'together': 870, 'saw': 871, 'rappers': 872, 'petty': 873, 'booted': 874, 'piped': 875, 'wooski': 876, 'ball': 877, 'loopy': 878, 'glizzy': 879, 'bop': 880, 'groovy': 881, 'blessed': 882, 'food': 883, 'bank': 884, 'across': 885, 'mike': 886, 'action': 887, 'checked': 888, 'baka': 889, 'whose': 890, 'carry': 891, 'fly': 892, 'drive': 893, 'chances': 894, 'talked': 895, 'hours': 896, 'far': 897, 'alive': 898, 'kill': 899, 'picture': 900, 'getting': 901, 'wake': 902, 'low': 903, 'draft': 904, 'child': 905, 'shook': 906, 'sun': 907, 'twice': 908, 'ahead': 909, 'list': 910, 'waited': 911, 'rich': 912, 'knows': 913, 'relationship': 914, 'doing': 915, 'shows': 916, 'shady': 917, 'once': 918, \"how'd\": 919, 'wine': 920, 'fear': 921, 'living': 922, 'thankful': 923, 'max': 924, 'grave': 925, 'bury': 926, 'bounce': 927, 'pieces': 928, 'hardly': 929, 'elevate': 930, 'celebrate': 931, 'follow': 932, \"'set\": 933, 'tec': 934, \"pressin'\": 935, 'hire': 936, 'rid': 937, 'class': 938, 'lovey': 939, 'dovey': 940, 'blast': 941, 'hidden': 942, 'hills': 943, 'promise': 944, \"shouldn't\": 945, \"mothafuckin'\": 946, 'thin': 947, 'sink': 948, \"kissin'\": 949, 'storm': 950, 'buck': 951, 'passive': 952, \"passin'\": 953, 'somehow': 954, 'tied': 955, 'ear': 956, \"tellin'\": 957, \"seekin'\": 958, 'forgiveness': 959, 'loan': 960, \"slidin'\": 961, \"recordin'\": 962, 'instead': 963, 'important': 964, 'sister': 965, 'hop': 966, 'mirror': 967, 'popped': 968, 'ceilings': 969, 'use': 970, \"countin'\": 971, 'wins': 972, 'dawgs': 973, \"ridin'\": 974, 'necklace': 975, 'wet': 976, 'eight': 977, 'nine': 978, 'sex': 979, 'company': 980, 'kind': 981, 'jeopardize': 982, 'confessions': 983, 'rise': 984, 'papi': 985, 'acting': 986, \"beefin'\": 987, 'lap': 988, 'distance': 989, 'gap': 990, 'act': 991, 'forgot': 992, 'called': 993, 'credit': 994, \"eatin'\": 995, 'tea': 996, 'silence': 997, \"ignorin'\": 998, 'uhm': 999, 'pocket': 1000, 'inspired': 1001, 'bro': 1002, 'thank': 1003, 'fell': 1004, 'keys': 1005, 'bridge': 1006, '42': 1007, 'flights': 1008, \"pourin'\": 1009, 'foundation': 1010, 'vegas': 1011, 'lifestyle': 1012, 'stone': 1013, 'known': 1014, 'air': 1015, 'envy': 1016, 'news': 1017, 'round': 1018, 'sold': 1019, 'dreams': 1020, 'few': 1021, 'b': 1022, 'hill': 1023, 'problem': 1024, 'others': 1025, 'palace': 1026, 'kids': 1027, 'bands': 1028, 'split': 1029, 'argue': 1030, \"starin'\": 1031, 'wood': 1032, \"beggin'\": 1033, 'spend': 1034, 'learn': 1035, 'bean': 1036, 'windy': 1037, \"blowin'\": 1038, 'degrees': 1039, 'presidential': 1040, 'suite': 1041, 'phones': 1042, 'dawg': 1043, 'saturday': 1044, 'runway': 1045, 'wherever': 1046, 'booth': 1047, 'pimp': 1048, 'maybach': 1049, 'sequins': 1050, 'buckles': 1051, 'jacket': 1052, 'alyx': 1053, 'crossbody': 1054, 'thriller': 1055, 'satisfaction': 1056, 'tie': 1057, 'shooters': 1058, 'himself': 1059, 'somewhere': 1060, 'katy': 1061, 'environment': 1062, 'fire': 1063, 'secrets': 1064, 'cheap': 1065, 'turks': 1066, 'finish': 1067, 'vu': 1068, \"pullin'\": 1069, 'complain': 1070, 'friend': 1071, 'whoever': 1072, 'park': 1073, 'clear': 1074, 'richard': 1075, 'mille': 1076, 'bandana': 1077, 'd4l': 1078, 'bowen': 1079, 'homes': 1080, 'shiesty': 1081, 'vroom': 1082, 'cash': 1083, 'vacuum': 1084, 'sealed': 1085, 'chase': 1086, 'boss': 1087, 'eat': 1088, 'calamari': 1089, 'codeine': 1090, 'shoot': 1091, \"sittin'\": 1092, 'sideways': 1093, \"bringin'\": 1094, 'stuff': 1095, 'sweet': 1096, 'pour': 1097, 'ignore': 1098, 'waves': 1099, 'uncle': 1100, 'under': 1101, 'drove': 1102, \"writin'\": 1103, 'happened': 1104, 'ymb': 1105, \"yellin'\": 1106, 'finished': 1107, 'benz': 1108, 'loved': 1109, 'kd': 1110, 'opp': 1111, 'date': 1112, 'monster': 1113, 'court': 1114, 'killed': 1115, 'border': 1116, 'walk': 1117, 'thick': 1118, 'fit': 1119, 'grip': 1120, 'henny': 1121, 'gyal': 1122, 'lined': 1123, 'woman': 1124, 'stress': 1125, \"rappin'\": 1126, 'rolls': 1127, 'fix': 1128, 'tings': 1129, 'brand': 1130, 'sitting': 1131, 'honestly': 1132, 'hating': 1133, 'fact': 1134, 'favorite': 1135, 'moving': 1136, 'attached': 1137, 'talking': 1138, 'figured': 1139, 'dad': 1140, 'focused': 1141, \"drinkin'\": 1142, 'pretend': 1143, 'teach': 1144, 'slipping': 1145, 'north': 1146, 'kick': 1147, 'eyes': 1148, 'drama': 1149, 'power': 1150, \"holdin'\": 1151, 'streets': 1152, 'pack': 1153, 'johnny': 1154, 'suits': 1155, 'aside': 1156, 'realize': 1157, 'chance': 1158, 'making': 1159, 'lay': 1160, 'paint': 1161, 'bottle': 1162, 'tempt': 1163, 'asked': 1164, 'especially': 1165, 'fake': 1166, 'rosé': 1167, 'la': 1168, 'awake': 1169, 'nowadays': 1170, 'pree': 1171, \"willin'\": 1172, '10': 1173, 'king': 1174, 'rules': 1175, 'playing': 1176, 'wedding': 1177, 'covers': 1178, 'agree': 1179, 'cool': 1180, 'makes': 1181, 'expected': 1182, 'yet': 1183, 'emotions': 1184, 'week': 1185, 'beginning': 1186, 'along': 1187, 'hurts': 1188, 'simple': 1189, 'math': 1190, 'tap': 1191, 'morning': 1192, 'role': 1193, \"changin'\": 1194, \"endin'\": 1195, 'step': 1196, 'commitment': 1197, 'running': 1198, 'saying': 1199, 'bags': 1200, 'text': 1201, 'peaceful': 1202, 'forever': 1203, 'each': 1204, 'rings': 1205, 'hollywood': 1206, 'cc': 1207, 'figures': 1208, 'collect': 1209, 'dna': 1210, 'quiet': 1211, 'broken': 1212, 'mac': 1213, 'stopwatch': 1214, 'bill': 1215, 'future': 1216, 'al': 1217, 'trips': 1218, \"amazin'\": 1219, \"cryin'\": 1220, 'upset': 1221, 'disrespect': 1222, 'loose': 1223, 'twenty': 1224, 'cook': 1225, 'toes': 1226, 'chosen': 1227, 'jeez': 1228, 'worst': 1229, 'note': 1230, 'hov': 1231, 'album': 1232, 'soft': 1233, 'record': 1234, 'president': 1235, 'july': 1236, 'warm': 1237, 'guns': 1238, 'murda': 1239, 'reflection': 1240, \"stressin'\": 1241, 'seems': 1242, \"time's\": 1243, 'rule': 1244, 'trapmoneybenny': 1245, 'options': 1246, 'wraith': 1247, 'net': 1248, 'biggy': 1249, 'calls': 1250, 'job': 1251, 'shelter': 1252, 'ease': 1253, 'certified': 1254, \"someone's\": 1255, 'dating': 1256, 'falling': 1257, 'eastside': 1258, 'to\\u2005all': 1259, 'view': 1260, 'h': 1261, 'adorable': 1262, 'bread': 1263, 'bit': 1264, 'sli': 1265, \"trappin'\": 1266, 'fun': 1267, 'pass': 1268, 'compete': 1269, 'foreign': 1270, 'looked': 1271, \"pretendin'\": 1272, 'cross': 1273, 'feds': 1274, 'pray': 1275, 'poolside': 1276, 'seven': 1277, 'nowhere': 1278, 'straps': 1279, 'courtne': 1280, 'junior': 1281, 'plus': 1282, 'lessons': 1283, 'learned': 1284, \"hittin'\": 1285, 'zodiac': 1286, 'sign': 1287, 'mvp': 1288, 'worth': 1289, 'jealousy': 1290, 'lives': 1291, 'focus': 1292, 'wife': 1293, \"wakin'\": 1294, 'anytime': 1295, 'snap': 1296, 'attack': 1297, 'relax': 1298, 'wig': 1299, 'ritz': 1300, 'dub': 1301, 'any': 1302, 'vibe': 1303, 'lead': 1304, 'signs': 1305, 'cats': 1306, 'dream': 1307, 'consistent': 1308, 'affected': 1309, 'positive': 1310, 'motherfucker': 1311, 'arrived': 1312, 'may': 1313, 'jheeze': 1314, 'intoxicated': 1315, 'asleep': 1316, 'loyalty': 1317, 'priceless': 1318, 'outs': 1319, 'build': 1320, 'pardon': 1321, 'heights': 1322, 'touched': 1323, 'paper': 1324, 'involved': 1325, \"steppin'\": 1326, 'hush': 1327, 'built': 1328, 'hurry': 1329, 'summertime': 1330, 'steady': 1331, 'rough': 1332, \"losin'\": 1333, 'sent': 1334, 'frenzy': 1335, 'meech': 1336, 'trendy': 1337, 'twenties': 1338, 'flip': 1339, 'fendi': 1340, 'bust': 1341, 'starts': 1342, 'notice': 1343, 'apple': 1344, 'missions': 1345, 'hotlines': 1346, \"flippin'\": 1347, \"mindin'\": 1348, 'drives': 1349, 'itself': 1350, 'accounts': 1351, 'carter': 1352, \"dreamin'\": 1353, 'spots': 1354, 'jill': 1355, 'scott': 1356, 'um': 1357, 'genius': 1358, 'blessings': 1359, 'anyway': 1360, \"mil'\": 1361, 'space': 1362, 'full': 1363, 'promises': 1364, \"brother's\": 1365, 'fan': 1366, 'mom': 1367, 'sandra': 1368, \"prayin'\": 1369, 'forth': 1370, 'richer': 1371, 'smarter': 1372, 'happens': 1373, 'coach': 1374, 'shoulda': 1375, 'revenge': 1376, 'insecure': 1377, 'plane': 1378, 'shower': 1379, 'green': 1380, \"must've\": 1381, \"'member\": 1382, '2017': 1383, 'card': 1384, 'someday': 1385, 'pistol': 1386, 'title': 1387, 'waiter': 1388, \"stickin'\": 1389, 'access': 1390, 'c': 1391, 'speed': 1392, 'freak': 1393, 'aberlour': 1394, 'glove': 1395, 'shorties': 1396, \"puttin'\": 1397, 'afford': 1398, 'shaky': 1399, 'knees': 1400, '8': 1401, '2': 1402, 'cop': 1403, 'driver': 1404, 'self': 1405, 'rock': 1406, 'handle': 1407, 'voice': 1408, 'chune': 1409, 'shout': 1410, 'grew': 1411, \"flyin'\": 1412, 'explain': 1413, 'exchange': 1414, 'overseas': 1415, \"whippin'\": 1416, 'rhythm': 1417, 'rolled': 1418, \"diggin'\": 1419, 'clothes': 1420, \"pushin'\": 1421, '808': 1422, 'crew': 1423, 'drip': 1424, 'vuitton': 1425, 'breed': 1426, 'american': 1427, \"shootin'\": 1428, 'crack': 1429, 'sell': 1430, \"brackin'\": 1431, 'clearer': 1432, 'months': 1433, 'saudi': 1434, 'feet': 1435, 'oil': 1436, \"'rari\": 1437, 'advance': 1438, 'driveway': 1439, 'pool': 1440, 'greased': 1441, 'beef': 1442, 'jeans': 1443, 'dentist': 1444, 'pills': 1445, 'christian': 1446, 'dior': 1447, 'spent': 1448, 'k': 1449, 'instagram': 1450, 'hug': 1451, 'asking': 1452, 'dip': 1453, 'finger': 1454, 'star': 1455, 'fortunate': 1456, 'fortune': 1457, 'shy': 1458, 'treated': 1459, 'spoiled': 1460, 'smell': 1461, 'incense': 1462, 'cap': 1463, \"'gram\": 1464, 'style': 1465, 'fair': 1466, 'wing': 1467, 'bottom': 1468, 'share': 1469, 'awards': 1470, 'glass': 1471, 'ended': 1472, 't': 1473, 'y': 1474, 'passed': 1475, 'florida': 1476, 'linked': 1477, 'mexiko': 1478, 'dro': 1479, 'static': 1480, 'bottles': 1481, 'kobe': 1482, 'chain': 1483, 'lesson': 1484, 'yup': 1485, 'stain': 1486, 'mhm': 1487, 'moral': 1488, 'diss': 1489, \"g's\": 1490, 'charges': 1491, 'laid': 1492, 'td': 1493, 'laced': 1494, 'relate': 1495, 'great': 1496, 'eighth': 1497, 'sponsor': 1498, 'honor': 1499, \"catchin'\": 1500, 'karma': 1501, 'taught': 1502, 'gift': 1503, 'london': 1504, 'difference': 1505, 'fitted': 1506, 'headshot': 1507, 'privilège': 1508, 'dinner': 1509, 'sweatsuit': 1510, 'pc': 1511, 'jay': 1512, 'threats': 1513, 'flown': 1514, 'private': 1515, 'owe': 1516, 'wassa': 1517, 'skull': 1518, 'ah': 1519, 'slaps': 1520, 'chest': 1521, 'wheels': 1522, 'gilla': 1523, 'rides': 1524, 'grown': 1525, 'saved': 1526, 'bell': 1527, 'fresh': 1528, 'art': 1529, \"'96\": 1530, 'doors': 1531, 'parents': 1532, 'greatest': 1533, 'yelled': 1534, 'surprise': 1535, 'waiting': 1536, 'throw': 1537, 'christmas': 1538, 'middle': 1539, 'stage': 1540, 'calling': 1541, 'favor': 1542, 'looking': 1543, 'settle': 1544, 'vision': 1545, \"shit'll\": 1546, 'bar': 1547, 'effort': 1548, 'belongs': 1549, 'form': 1550, 'hurt': 1551, 'church': 1552, 'strong': 1553, 'purple': 1554, 'pink': 1555, 'wasted': 1556, 'faded': 1557, 'cell': 1558, 'table': 1559, 'pm': 1560, \"they're\": 1561, \"spendin'\": 1562, \"forgettin'\": 1563, 'program': 1564, 'terrible': 1565, \"invitin'\": 1566, 'speak': 1567, 'showed': 1568, 'weed': 1569, 'award': 1570, 'third': 1571, 'flight': 1572, 'xan': 1573, 'waking': 1574, \"'nother\": 1575, 'manziel': 1576, 'wiggins': 1577, \"winnin'\": 1578, 'darkest': 1579, 'loyal': 1580, 'raw': 1581, \"growin'\": 1582, 'written': 1583, 'purpose': 1584, 'followed': 1585, 'moves': 1586, 'picked': 1587, 'offense': 1588, 'records': 1589, 'hits': 1590, 'chill': 1591, \"signin'\": 1592, 'deals': 1593, 'heavy': 1594, 'load': 1595, 'worried': 1596, 'janky': 1597, 'upper': 1598, 'struggle': 1599, 'press': 1600, 'millions': 1601, 'choices': 1602, 'pac': 1603, 'advice': 1604, 'level': 1605, 'red': 1606, 'dipped': 1607, 'artist': 1608, 'kush': 1609, 'smoking': 1610, \"redoin'\": 1611, 'entrance': 1612, 'blow': 1613, 'total': 1614, 'backwards': 1615, 'single': 1616, 'headed': 1617, 'owl': 1618, \"lovin'\": 1619, \"killin'\": 1620, \"stuntin'\": 1621, 'multi': 1622, 'edge': 1623, 'condo': 1624, 'wasting': 1625, 'thinking': 1626, 'losing': 1627, 'forgetting': 1628, '26': 1629, 'ms': 1630, 'fish': 1631, 'books': 1632, 'lock': 1633, 'return': 1634, 'screaming': 1635, 'co': 1636, 'op': 1637, \"girl's\": 1638, 'bars': 1639, \"unforgivin'\": 1640, \"screamin'\": 1641, 'condoms': 1642, 'cole': 1643, 'modest': 1644, 'false': 1645, 'against': 1646, 'dre': 1647, 'which': 1648, 'philly': 1649, 'signed': 1650, 'complex': 1651, 'personal': 1652, 'slept': 1653, 'jordan': 1654, 'mountain': 1655, 'biggest': 1656, 'fairy': 1657, 'ears': 1658, 'dying': 1659, 'page': 1660, 'promised': 1661, 'sounding': 1662, '–': 1663, 'taking': 1664, 'til': 1665, \"learnin'\": 1666, 'strap': 1667, 'sisters': 1668, 'themselves': 1669, '100': 1670, 'missing': 1671, 'values': 1672, 'besides': 1673, 'hide': 1674, 'whether': 1675, 'forgive': 1676, 'suit': 1677, 'lipstick': 1678, 'introduced': 1679, '23': 1680, 'custom': 1681, 'changes': 1682, \"testin'\": 1683, 'happy': 1684, \"buyin'\": 1685, 'path': 1686, 'texts': 1687, \"bankin'\": 1688, 'casino': 1689, 'vivid': 1690, 'mood': 1691, 'october': 1692, 'closer': 1693, 'houses': 1694, 'separate': 1695, 'west': 1696, \"we've\": 1697, 'protect': 1698, 'large': 1699, 'twins': 1700, 'lapped': 1701, 'realest': 1702, 'slap': 1703, 'mask': 1704, 'cape': 1705, 'swap': 1706, 'rat': 1707, 'sprinter': 1708, \"ringin'\": 1709, 'tipper': 1710, 'allowance': 1711, 'reroute': 1712, 'loudest': 1713, 'goal': 1714, 'possession': 1715, 'pretty': 1716, 'content': 1717, 'rip': 1718, 'intro': 1719, 'super': 1720, 'sweat': 1721, \"servin'\": 1722, 'tall': 1723, 'figure': 1724, 'prayed': 1725, 'bills': 1726, 'can’t': 1727, 'checks': 1728, 'profit': 1729, 'obligation': 1730, 'likes': 1731, 'slowly': 1732, 'patience': 1733, 'weekend': 1734, 'opinions': 1735, 'rome': 1736, \"hidin'\": 1737, 'exhausted': 1738, 'o': 1739, 'tatted': 1740, \"they'll\": 1741, 'offended': 1742, 'tour': 1743, 'guest': 1744, 'flesh': 1745, '1da': 1746, 'disarray': 1747, 'wifey—': 1748, 'attitude': 1749, 'forehead': 1750, 'goodbye': 1751, 'settled': 1752, 'sevens': 1753, 'sixes': 1754, 'easy': 1755, 'shut': 1756, 'i—': 1757, 'neighborhood': 1758, 'subtle': 1759, 's': 1760, 'sss': 1761, 'tags': 1762, 'tithes': 1763, 'doo': 1764, 'ra': 1765, 'shh': 1766, 'insist': 1767, \"standin'\": 1768, 'ayo': 1769, 'maxx': 1770, \"blastin'\": 1771, 'kicked': 1772, 'skid': 1773, 'kitted': 1774, 'reputation': 1775, 'uphold': 1776, \"crashin'\": 1777, 'worms': 1778, \"sandra's\": 1779, 'sweeter': 1780, 'hell': 1781, 'serious': 1782, 'commas': 1783, 'very': 1784, \"walkin'\": 1785, 'proud': 1786, 'jokes': 1787, 'bent': 1788, 'provoke': 1789, \"duckin'\": 1790, 'dope': 1791, 'bathroom': 1792, 'challenge': 1793, 'peers': 1794, 'statistics': 1795, 'rounded': 1796, 'dubai': 1797, \"heartbeat's\": 1798, 'racing': 1799, 'highly': 1800, 'obviously': 1801, \"overdoin'\": 1802, 'angry': 1803, 'freezing': 1804, \"confusin'\": 1805, \"wastin'\": 1806, 'decent': 1807, \"tearin'\": 1808, 'brea': 1809, 'quickly': 1810, 'cause': 1811, 'hurting': 1812, 'basic': 1813, \"flakin'\": 1814, 'ages': 1815, \"snappin'\": 1816, 'fabo': 1817, \"pipin'\": 1818, 'gassed': 1819, \"reese's\": 1820, 'headtop': 1821, 'to–': 1822, 'emptiness': 1823, 'bullshit': 1824, 'brrrrrrr–': 1825, 'grind': 1826, 'winter': 1827, 'shine': 1828, 'hunna': 1829, 'vacay': 1830, 'insta': 1831, 'clown': 1832, 'wow': 1833, 'hearts': 1834, 'strikes': 1835, 'knife': 1836, 'ribs': 1837, 'window': 1838, 'kiki': 1839, 'kb': 1840, \"aren't\": 1841, 'despite': 1842, 'wall': 1843, 'you’re': 1844, 'hair': 1845, '93': 1846, '7': 1847, 'dedications': 1848, 'lines': 1849, 'nasty': 1850, 'evil': 1851, 'we’re': 1852, 'cashed': 1853, 'frozen': 1854, 'careful': 1855, \"mixin'\": 1856, 'potion': 1857, \"slashin'\": 1858, \"n'\": 1859, 'roses': 1860, 'toast': 1861, 'ground': 1862, \"cuttin'\": 1863, 'guide': 1864, 'tension': 1865, 'lo': 1866, 'careers': 1867, 'chef': 1868, 'nose': 1869, 'sn1': 1870, 'button': 1871, 'battered': 1872, 'bat': 1873, 'gem': 1874, 'heartless': 1875, 'colder': 1876, 'person': 1877, 'surely': 1878, 'remind': 1879, 'swishahouse': 1880, 'northside': 1881, 'westside': 1882, 'wassup\\u2005in\\u2005bay': 1883, 'louisiana': 1884, 'austin': 1885, 'san': 1886, 'antonio': 1887, 'marshall': 1888, 'prairie': 1889, \"\\u205fit's\\u205fgoing\\u205fdown\": 1890, 'wharton': 1891, 'county': 1892, 'texas\\u205fcity': 1893, 'tsu\\u205fladies': 1894, 'pornos': 1895, 'morals': 1896, \"drac'\": 1897, 'glow': 1898, 'definitely': 1899, 'player': 1900, 'bright': 1901, '325': 1902, 'pipe': 1903, 'i\\u2005was\\u2005down': 1904, 'diamonds\\u2005for': 1905, 'trendsetter': 1906, 'ben\\u2005frank': 1907, 'getter': 1908, \"i'm\\u205funder\\u205fpressure\\u205f\": 1909, 'apply\\u205fit': 1910, 'don’t\\u205fever': 1911, \"grindin'\": 1912, \"competin'\": 1913, 'trends': 1914, 'vin': 1915, 'loft': 1916, 'smooth': 1917, 'pharrell': 1918, 'thugger': 1919, 'sweep': 1920, 'cruisin’': 1921, 'biscayne': 1922, 'audemar': 1923, 'socks': 1924, 'phantom': 1925, 'suicide': 1926, 'rogue': 1927, 'tide': 1928, 'stopped\\u2005keeping\\u2005count': 1929, 'i\\u2005was': 1930, '25': 1931, 'same\\u2005thing': 1932, \"that's\\u205fa\\u205flie\": 1933, \"'cause\\u205fif\": 1934, \"countin'\\u205fhead\": 1935, 'if\\u205fwe': 1936, 'drunken': 1937, 'marcus': 1938, 'resigned': 1939, '2005': 1940, 'enjoy': 1941, 'combined': 1942, 'backs': 1943, 'threesomes': 1944, 'outperforms': 1945, \"choosin'\": 1946, 'unless': 1947, 'prime': 1948, 'goodbyes': 1949, 'scorpio': 1950, 'cropped': 1951, 'photos': 1952, 'tonto': 1953, 'dolo': 1954, 'hated': 1955, 'badness': 1956, 'lov': 1957, 'value': 1958, 'gemini': 1959, \"tradin'\": 1960, \"convo's\": 1961, 'legacy': 1962, 'bums': 1963, 'react': 1964, 'victory': 1965, 'store': 1966, 'closeable': 1967, 'trenches': 1968, 'rats': 1969, 'atlanta': 1970, 'tae': 1971, 'killer': 1972, \"'net\": 1973, 'dababy': 1974, 'stretched': 1975, 'surround': 1976, 'dracs': 1977, 'embraced': 1978, \"money's\": 1979, 'percent': 1980, \"bent'\": 1981, 'valet': 1982, 'knocked': 1983, 'regret': 1984, \"wan'\": 1985, \"beatin'\": 1986, 'backyard': 1987, 'garden': 1988, 'eden': 1989, 'pillow': 1990, \"spillin'\": 1991, 'family\\u2005men': 1992, '\\u2005we': 1993, 'this\\u2005paper': 1994, 'i\\u2005had': 1995, 'bun': 1996, \"of\\u205fniggas\\u205fdoin'\\u205flot\": 1997, 'fugazi\\u205fshit': 1998, '\\u205fman': 1999, 'confidence': 2000, \"s'posed\": 2001, 'reunite': 2002, 'hah': 2003, 'stomach': 2004, 'such': 2005, 'inspire': 2006, \"he'd\": 2007, 'gut': 2008, 'discussion': 2009, 'bless': 2010, 'inshallah': 2011, 'diddy': 2012, 'inspiration': 2013, 'hung': 2014, 'so\\u2005you\\u2005better': 2015, 'your\\u2005time': 2016, 'last\\u2005time': 2017, 'erase': 2018, 'previously': 2019, \"care\\u2005'til\\u2005it's\": 2020, 'turned\\u2005they': 2021, 'no\\u2005good': 2022, 'individuals': 2023, 'woke': 2024, \"checkin'\": 2025, 'favors': 2026, \"turnin'\": 2027, 'turns': 2028, 'ugly': 2029, 'emotion': 2030, 'filter': 2031, 'held': 2032, \"stackin'\": 2033, 'bankroll': 2034, 'joking': 2035, 'outgrown': 2036, 'dressed': 2037, 'fatigues': 2038, 'rep': 2039, 'trustees': 2040, 'on\\u2005crushed\\u2005leaves': 2041, 'they\\u2005back': 2042, 'then\\u2005they': 2043, 'bleed': 2044, 'splatter': 2045, 'freeze': 2046, 'territory': 2047, 'forces': 2048, 'brushed': 2049, 'interrupt': 2050, 'leaves': 2051, 'heatwaves': 2052, 'sleeves': 2053, 'normal': 2054, 'seas': 2055, \"dealin'\": 2056, 'laurier': 2057, 'mackenzie': 2058, \"city's\": 2059, 'fifties': 2060, 'hundreds': 2061, 'pennies': 2062, 'f': 2063, \"whatever's\": 2064, 'screen': 2065, 'pyramid': 2066, 'schemes': 2067, 'egyptians': 2068, \"blingin'\": 2069, 'transitions': 2070, 'ambition': 2071, 'et': 2072, 'cetera': 2073, 'tesla': 2074, 'extra': 2075, 'corey': 2076, 'sole': 2077, 'investor': 2078, 'impress': 2079, 'baller': 2080, 'longer': 2081, \"nephew's\": 2082, 'taller': 2083, 'soundtrack': 2084, \"acceptin'\": 2085, 'offers': 2086, \"easin'\": 2087, 'tensions': 2088, 'detention': 2089, 'pine': 2090, 'funeral': 2091, 'center': 2092, \"enterin'\": 2093, 'afrocentric': 2094, 'attention': 2095, 'tell\\u2005me\\u2005what': 2096, 'do\\u2005when': 2097, 'june': 2098, \"\\u2005you're\": 2099, \"hand's\": 2100, 'exist': 2101, 'childish': 2102, 'ws': 2103, 'fluke': 2104, 'wayne': 2105, 'tez': 2106, 'responsible': 2107, 'consciousness': 2108, 'compliments': 2109, 'confident': 2110, 'accomplices': 2111, 'register': 2112, 'motherland': 2113, 'assistant': 2114, \"findin'\": 2115, 'percocet': 2116, 'rubber': 2117, 'discover': 2118, 'graham': 2119, 'rubin': 2120, 'demand': 2121, 'weatherman': 2122, 'heads': 2123, 'necks': 2124, 'religious': 2125, 'sicker': 2126, 'wicked': 2127, 'matters': 2128, 'bang': 2129, 'dividends': 2130, 'snakes': 2131, \"slitherin'\": 2132, \"fittin'\": 2133, \"nigga's\": 2134, 'manager': 2135, 'percentage': 2136, 'show\\u2005me\\u2005things': 2137, 'what\\u2005it': 2138, '\\u2005she': 2139, 'underground': 2140, 'garages': 2141, 'deposit': 2142, 'elevator': 2143, 'area': 2144, 'galleria': 2145, 'swipes': 2146, 'jewelry': 2147, 'arrival': 2148, 'survival': 2149, \"gunnin'\": 2150, 'meal': 2151, 'babe': 2152, 'typo': 2153, 'images': 2154, 'amex': 2155, \"sinnin'\": 2156, 'backstage': 2157, \"watchin'\\u2005my\\u2005back\": 2158, \"when\\u2005i'm\": 2159, \"doin'\\u2005my\": 2160, 'like\\u205fyou': 2161, 'i\\u205fwanna\\u205fmake': 2162, 'feel\\u205fthe': 2163, \"weight's\": 2164, 'off\\u205fyour': 2165, 'shoulders': 2166, 'crying': 2167, 'longest': 2168, 'bended': 2169, 'knee': 2170, 'scooped': 2171, 'backseat': 2172, \"why'd\": 2173, 'given': 2174, 'sponsored': 2175, 'introducing': 2176, 'piece\\u2005in\\u2005it': 2177, '\\u2005but': 2178, 'street\\u2005shit': 2179, 'knot': 2180, 'petal': 2181, \"mistakin'\": 2182, 'troubled': 2183, 'creep': 2184, 'toosie': 2185, 'spin': 2186, 'spun': 2187, \"there'll\": 2188, 'describe': 2189, 'pressure': 2190, 'ourselves': 2191, \"chubbs'll\": 2192, 'yolo': 2193, 'guarantee': 2194, \"truth'll\": 2195, 'revealed': 2196, 'gloves': 2197, \"'faction\": 2198, 'out\\u2005in\\u2005the': 2199, \"with\\u2005nothin'\": 2200, '\\u2005you': 2201, 'liar': 2202, 'messiah': 2203, '1': 2204, 'loans': 2205, 'vulnerable': 2206, 'copped': 2207, 'main': 2208, 'barely': 2209, 'string': 2210, \"it'll\": 2211, 'serve': 2212, 'soda': 2213, 'rocks': 2214, 'vegan': 2215, 'beaches': 2216, 'tickets': 2217, 'eric': 2218, 'fault': 2219, 'filled': 2220, 'entitlement': 2221, 'bold': 2222, 'solve': 2223, \"solvin'\": 2224, 'solid': 2225, 'unfortunately': 2226, 'building': 2227, 'popping': 2228, 'still\\u2005with\\u2005the': 2229, 'that\\u2005i': 2230, \"'round\\u2005me\": 2231, \"it's\\u205fflyin'\\u205fright\\u205fby\": 2232, 'in\\u205fan': 2233, 'right\\u205foutside': 2234, 'finsta': 2235, 'hoodie': 2236, 'crenshaw': 2237, 'unconventional': 2238, 'tenser': 2239, 'adventure': 2240, 'chrome': 2241, 'crystal': 2242, \"heart's\": 2243, 'javelin': 2244, 'angels': 2245, 'and—': 2246, \"gon'\\u2005miss\\u2005it\": 2247, 'with\\u2005a': 2248, 'sound\\u2005different': 2249, \"kiddin'\": 2250, 'finna': 2251, \"billin'\": 2252, 'shovel': 2253, \"boardin'\": 2254, 'dosed': 2255, \"phone's\": 2256, 'patek': 2257, 'backflips': 2258, 'whippin': 2259, \"'\": 2260, 'supermodel': 2261, 'missus': 2262, \"hearin'\": 2263, 'cadillacs': 2264, 'politician': 2265, 'arenas': 2266, 'scottie': 2267, 'pippen': 2268, \"dirtyin'\": 2269, 'dabble': 2270, \"i'ma—\": 2271, 'clearport': 2272, \"what's\\u2005brackin'\": 2273, '\\u2005yeah': 2274, 'told\\u2005my': 2275, 'by\\u2005your': 2276, 'hellcat': 2277, 'goons': 2278, 'earl': 2279, 'manigault': 2280, 'spoon': 2281, 'prom': 2282, 'queen': 2283, 'seal': 2284, 'palm': 2285, 'springs': 2286, 'daytrip': 2287, 'freeband': 2288, \"october's\": 2289, 'pace': 2290, 'banknotes': 2291, 'bankhead': 2292, 'spaceships': 2293, 'impatient': 2294, 'butt': 2295, 'lasik': 2296, 'grade': 2297, 'payless': 2298, 'asics': 2299, \"nike'd\": 2300, 'snake': 2301, 'pit': 2302, 'thirteen': 2303, 'arabia': 2304, 'counter': 2305, 'swerve': 2306, \"pi'erre\": 2307, 'pi’erre': 2308, 'planned': 2309, 'van': 2310, 'wagen': 2311, 'kawhi': 2312, 'sicko': 2313, 'breakin’': 2314, 'tens': 2315, 'antisocial': 2316, 'beachfront': 2317, '’em': 2318, \"tannin'\": 2319, 'police': 2320, 'capo': 2321, 'mark': 2322, 'mexico': 2323, \"'cept\": 2324, 'raf': 2325, 'simons': 2326, 'teeth': 2327, 'goyard': 2328, 'bored': 2329, \"lam'\": 2330, 'board': 2331, \"textin'\": 2332, 'hey': 2333, 'writing': 2334, 'i\\u2005started\\u2005writing': 2335, 'about\\u2005family': 2336, 'feel\\u2005any': 2337, 'buzz': 2338, 'teller': 2339, 'rotten': 2340, 'walked': 2341, \"burnin'\": 2342, 'apartment': 2343, 'river': 2344, 'rowed': 2345, 'roadmap': 2346, 'grahams': 2347, 'fam': 2348, 'sam': 2349, \"stealin'\": 2350, \"matchin'\": 2351, 'dramatic': 2352, 'wings': 2353, 'pair': 2354, 'dependent': 2355, 'paced': 2356, 'masked': 2357, 'sad': 2358, 'rewind': 2359, 'sir': 2360, \"'head\": 2361, 'i\\u2005knew\\u2005i': 2362, 'a\\u2005plug': 2363, \"\\u2005yellin'\": 2364, '\\u205fknow\\u205fi\\u205flove': 2365, 'touch\\u205f': 2366, 'that\\u205fshit': 2367, 'pistols': 2368, 'loaded': 2369, 'pointed': 2370, \"hasn't\": 2371, 'alley': 2372, 'oop': 2373, 'subs': 2374, 'dap': 2375, \"reactin'\": 2376, 'niggas…': 2377, 'plug': 2378, \"reminiscin'\": 2379, 'jb': 2380, 'hahahaha': 2381, '\\u2005viral': 2382, '\\u2005movie': 2383, 'this\\u2005bitch': 2384, 'the\\u2005summer': 2385, 'blem': 2386, 'hermés': 2387, 'ralph': 2388, 'lauren': 2389, 'je': 2390, \"t'aime\": 2391, 'progression': 2392, 'ate': 2393, 'kyrie': 2394, 'kylie': 2395, 'tribeca': 2396, 'dodgy': 2397, 'brrr': 2398, 'gangster': 2399, 'mistake': 2400, 'nut': 2401, 'perc': 2402, 'demon': 2403, 'shark': 2404, 'underwater': 2405, 'gifted': 2406, 'sale': 2407, 'stamps': 2408, 'highway': 2409, 'fivio': 2410, 'lifted': 2411, 'swag': 2412, 'amiri': 2413, 'punch': 2414, 'resale': 2415, 'icloud': 2416, \"don't\\u2005do\\u2005email\": 2417, 'tap\\u2005up': 2418, 'wire': 2419, 'man\\u2005like': 2420, 'detail': 2421, 'ricky': 2422, 'teesdale': 2423, 'teezy': 2424, 'swore': 2425, 'greazy': 2426, 'niko': 2427, 'neeky': 2428, 'dg': 2429, 'beaky': 2430, 'gigi': 2431, 'neatly': 2432, 'tune': 2433, 'repeat': 2434, 'pinched': 2435, 'dell': 2436, 'windows': 2437, \"kendall's\": 2438, 'enzos': 2439, 'munchie': 2440, 'pretentious': 2441, 'bumpy': 2442, 'broski': 2443, 'countries': 2444, 'waps': 2445, 'comfy': 2446, 'disses': 2447, 'jets': 2448, \"'dem\": 2449, 'debts': 2450, 'pressa': 2451, 'passa': 2452, 'cuz': 2453, 'jamie': 2454, 'yard': 2455, 'deh': 2456, 'pon': 2457, 'gaza': 2458, 'pasha': 2459, 'sasha': 2460, 'pissed': 2461, 'slashings': 2462, 'captions': 2463, 'clashings': 2464, 'lv': 2465, 'pouch': 2466, 'dumb': 2467, 'stupid': 2468, 'chromazz': 2469, 'domazz': 2470, 'potent': 2471, 'aromas': 2472, 'ovoxo': 2473, 'mandem': 2474, 'drillers': 2475, 'hawk': 2476, 'gucci': 2477, 'sang': 2478, \"man'll\": 2479, '4301': 2480, 'spare': 2481, 'outlined': 2482, 'stateside': 2483, 'bayside': 2484, 'prince': 2485, 'stays': 2486, 'jas': 2487, 'madting': 2488, 'codenames': 2489, 'anyone': 2490, 'train': 2491, 'meanest': 2492, 'dates': 2493, 'neighborhoods': 2494, 'convenient': 2495, 'lying': 2496, 'comfortable': 2497, 'manual': 2498, \"italia's\": 2499, 'pre': 2500, 'heated': 2501, 'oven': 2502, 'newest': 2503, 'paris': 2504, 'luckily': 2505, \"country's\": 2506, 'issue': 2507, 'clearance': 2508, 'surprised': 2509, 'india': 2510, 'charlotte': 2511, 'olympias': 2512, 'mentioned': 2513, 'ymcmb': 2514, 'friendly': 2515, 'shoes': 2516, 'carpets': 2517, 'claim': 2518, 'remaining': 2519, 'standing': 2520, 'fat': 2521, 'pants': 2522, 'reckless': 2523, 'timbs': 2524, '1998': 2525, 'chubby': 2526, 'chub': 2527, 'intact': 2528, 'strings': 2529, 'danger': 2530, 'health': 2531, 'perfect': 2532, 'herself': 2533, \"she'll\": 2534, 'dash': 2535, 'cyattie': 2536, 'cheesed': 2537, 'deleted': 2538, \"girls'\": 2539, 'exam': 2540, \"daddy's\": 2541, 'cds': 2542, 'ludacris': 2543, 'average': 2544, 'habits': 2545, 'sip': 2546, 'excuse': 2547, 'older': 2548, 'cups': 2549, 'depending': 2550, 'sipping': 2551, 'courtside': 2552, \"'posed\": 2553, 'created': 2554, 'erykah': 2555, 'badu': 2556, 'nephew': 2557, '22': 2558, 'galore': 2559, 'matured': 2560, 'rewards': 2561, 'ward': 2562, 'facetime': 2563, \"studyin'\": 2564, 'exams': 2565, 'amsterdam': 2566, 'japan': 2567, 'bible': 2568, 'insurance': 2569, 'fring': 2570, 'brunch': 2571, 'qatar': 2572, 'royals': 2573, \"niggas'll\": 2574, \"eggin'\": 2575, 'shell': 2576, 'prove': 2577, 'boiled': 2578, 'mm': 2579, 'oysters': 2580, \"singin'\": 2581, 'spit': 2582, 'manifested': 2583, \"shittin'\": 2584, 'misses': 2585, 'folk': 2586, 'jot': 2587, 'somalis': 2588, 'wallahi': 2589, 'donuts': 2590, 'coffee': 2591, 'sprite': 2592, 'payroll': 2593, \"'roids\": 2594, 'canseco': 2595, 'oakland': 2596, \"a's\": 2597, 'bay': 2598, 'lawyer': 2599, 'hunger': 2600, 'district': 2601, 'jennifer': 2602, 'lawrence': 2603, 'sidebar': 2604, 'loop': 2605, 'szn': 2606, 'promoters': 2607, 'established': 2608, 'yankees': 2609, 'thankless': 2610, 'militant': 2611, \"tankin'\": 2612, \"cris'\": 2613, 'sender': 2614, 'picker': 2615, 'humble': 2616, 'showing': 2617, 'truly': 2618, 'resent': 2619, 'demeanor': 2620, 'spells': 2621, \"og's\": 2622, 'attending': 2623, 'ticket': 2624, 'scrubs': 2625, 'pigeons': 2626, \"poppin'\": 2627, 'kendrick': 2628, 'rocky': 2629, 'watching': 2630, 'sing': 2631, \"dad's\": 2632, 'golden': 2633, 'reconcile': 2634, 'dicaprio': 2635, 'costa': 2636, 'careyes': 2637, 'kidnapped': 2638, 'barneys': 2639, 'diet': 2640, 'sheep': 2641, 'chris': 2642, 'farley': 2643, 'situation': 2644, 'cookup': 2645, 'cameras': 2646, 'pointing': 2647, 'duck': 2648, \"chubb's\": 2649, 'shoulder': 2650, 'sponsorship': 2651, 'sky': 2652, 'tinted': 2653, 'lenses': 2654, 'wednesday': 2655, 'architects': 2656, 'dimensions': 2657, 'quite': 2658, 'meantime': 2659, 'wide': 2660, 'calabasas': 2661, 'winder': 2662, \"shinin'\": 2663, 'waxed': 2664, 'tires': 2665, 'kris': 2666, 'jenner': 2667, 'beep': 2668, 'keeks': 2669, 'push': 2670, 'uneasy': 2671, 'greezy': 2672, 'curve': 2673, 'swv': 2674, 'bwoy': 2675, 'tommy': 2676, 'campos': 2677, 'dice': 2678, 'underestimated': 2679, 'greatly': 2680, 'safety': 2681, 'gun': 2682, 'bullets': 2683, 'laughter': 2684, 'sinatra': 2685, 'frank': 2686, \"wildin'\": 2687, 'budget': 2688, 'sweaters': 2689, 'luggage': 2690, 'tape': 2691, 'verse': 2692, 'hook': 2693, \"featurin'\": 2694, 'str8': 2695, 'wiretaps': 2696, 'somebodies': 2697, 'themself': 2698, 'albums': 2699, 'dropped': 2700, 'shelf': 2701, 'shits': 2702, 'trophy': 2703, 'committee': 2704, 'validation': 2705, 'during': 2706, 'allegations': 2707, 'pr': 2708, 'movement': 2709, 'forbes': 2710, \"everything's\": 2711, 'gorgeous': 2712, 'orphans': 2713, 'corpses': 2714, 'dread': 2715, 'orleans': 2716, \"stashin'\": 2717, 'hoarders': 2718, 'platinum': 2719, 'recordings': 2720, 'seated': 2721, 'swish': 2722, 'sotto': 2723, \"joso's\": 2724, 'ezee': 2725, 'coco': 2726, 'karim': 2727, 'jaevon': 2728, 'julius': 2729, 'milly': 2730, 'mill': 2731, 'wills': 2732, 'phil': 2733, 'screwface': 2734, 'suitcase': 2735, 'plates': 2736, 'weight': 2737, 'refused': 2738, 'blew': 2739, 'lupe': 2740, 'james': 2741, 'january': 2742, 'email': 2743, 'fo': 2744, 'everywhere': 2745, 'hiding': 2746, 'rushing': 2747, 'forcing': 2748, '—this': 2749, 'discuss': 2750, 'loosen': 2751, 'nervous': 2752, 'empower': 2753, 'deserve': 2754, 'sticky': 2755, 'situations': 2756, 'gq': 2757, 'devoted': 2758, 'unnoticed': 2759, 'hopeless': 2760, 'clinic': 2761, 'winning': 2762, '50': 2763, 'tanks': 2764, \"'06\": 2765, 'irs': 2766, 'matlock': 2767, 'capital': 2768, 'caps': 2769, 'plot': 2770, 'shift': 2771, \"pitchin'\": 2772, 'cane': 2773, 'that’s…': 2774, 'from…': 2775, 'ahh': 2776, 'absolutely': 2777, 'phenomenal': 2778, 'errythang': 2779, 'jodeci': 2780, 'studied': 2781, 'cd…': 2782, 'barney’s': 2783, 'planting': 2784, 'seeds': 2785, 'operation': 2786, 'cali': 2787, \"arguin'\": 2788, 'mc': 2789, 'poking': 2790, 'sore': 2791, 'oath': 2792, 'comedy': 2793, 'central': 2794, 'roast': 2795, 'smaller': 2796, 'starve': 2797, 'ropes': 2798, 'toenails': 2799, 'afterparty': 2800, \"women's\": 2801, 'desk': 2802, \"respondin'\": 2803, 'woulda': 2804, 'def': 2805, 'poetry': 2806, 'roof': 2807, 'slut': 2808, \"hatin'\": 2809, 'sucks': 2810, \"frontin'\": 2811, 'naked': 2812, 'glory': 2813, 'shame': 2814, 'flame': 2815, 'lame': 2816, 'doubters': 2817, 'undoubtedly': 2818, 'hottest': 2819, 'dummy': 2820, 'artistic': 2821, 'applause': 2822, 'gives': 2823, 'poker': 2824, 'jokers': 2825, 'cards': 2826, 'david': 2827, 'goliath': 2828, 'giants': 2829, 'pause': 2830, 'balls': 2831, 'gods': 2832, 'monstars': 2833, \"tappin'\": 2834, \"'94\": 2835, 'nas': 2836, 'chronic': 2837, 'slim': 2838, 'silly': 2839, 'fans': 2840, '12': 2841, 'dollar': 2842, 'thoughts': 2843, 'stream': 2844, \"spotifyin'\": 2845, 'trenchcoat': 2846, 'columbine': 2847, 'dumber': 2848, 'projections': 2849, 'doubled': 2850, \"perplexin'\": 2851, 'skills': 2852, 'sales': 2853, 'legends': 2854, 'rosemary': 2855, 'leann': 2856, 'sealy': 2857, \"they've\": 2858, 'saving': 2859, 'sincere': 2860, 'awkward': 2861, 'cheek': 2862, 'ignorant': 2863, 'beach': 2864, 'artists': 2865, 'named': 2866, 'tip': 2867, 'strange': 2868, 'strippers': 2869, 'rochelle': 2870, 'grand': 2871, 'pile': 2872, 'fountain': 2873, 'youth': 2874, 'muhfucking': 2875, 'tale': 2876, 'brightest': 2877, 'ideas': 2878, \"she'd\": 2879, 'checking': 2880, 'opinion': 2881, 'thinks': 2882, 'slave': 2883, 'wealth': 2884, 'brag': 2885, 'cutthroat': 2886, 'believed': 2887, 'achieved': 2888, 'clearly': 2889, \"this'll\": 2890, 'amount': 2891, 'surrounded': 2892, 'credentials': 2893, 'toronto': 2894, \"they'd\": 2895, 'closely': 2896, 'copied': 2897, 'copy': 2898, 'musicians': 2899, 'searching': 2900, 'rolex': 2901, 'xo': 2902, 'burning': 2903, 'range': 2904, 'voodoo': 2905, 'pays': 2906, 'screw': 2907, 'grey': 2908, 'tapes': 2909, 'fondle': 2910, 'fornicate': 2911, 'masturbate': 2912, 'porsche': 2913, 'wrinkle': 2914, 'puffing': 2915, 'hash': 2916, 'welcome': 2917, 'circle': 2918, 'sucker': 2919, 'snitching': 2920, 'cowards': 2921, 'royce': 2922, 'rolling': 2923, 'rollies': 2924, 'mba': 2925, 'accountants': 2926, 'amounts': 2927, 'unholy': 2928, 'praying': 2929, 'rubberband': 2930, 'travis': 2931, 'barker': 2932, 'drums': 2933, 'drum': 2934, 'telling': 2935, 'effects': 2936, 'driving': 2937, 'drivers': 2938, 'opening': 2939, 'western': 2940, 'union': 2941, 'passport': 2942, 'foolish': 2943, 'needle': 2944, 'cops': 2945, \"hangin'\": 2946, 'doughnut': 2947, 'shops': 2948, \"weather's\": 2949, \"meltin'\": 2950, 'teens': 2951, 'conditional': 2952, \"settlin'\": 2953, 'says': 2954, 'goddamn': 2955, 'alcohol': 2956, 'imagine': 2957, 'educate': 2958, 'wanted…': 2959, 'condom': 2960, 'haaa': 2961, 'beyoncé': 2962, 'conscience': 2963, 'avoiding': 2964, 'position': 2965, 'admirers': 2966, 'uncertainty': 2967, 'locking': 2968, \"startin'\": 2969, 'zone': 2970, 'escapes': 2971, 'whips': 2972, 'evening': 2973, 'neither': 2974, 'slicker': 2975, 'augusta': 2976, 'linen': 2977, 'dry': 2978, 'cleaned': 2979, 'nickel': 2980, 'urging': 2981, 'daughters': 2982, 'mothers': 2983, 'lips': 2984, 'counting': 2985, 'rubbers': 2986, 'marvin': 2987, 'gaye': 2988, 'distant': 2989, 'lovers': 2990, 'reintroduced': 2991, 'memphis': 2992, 'tennessee': 2993, 'cousins': 2994, 'simplistic': 2995, 'beauty': 2996, 'southerners': 2997, 'halfway': 2998, 'dozens': 2999, 'members': 3000, 'color': 3001, 'badd': 3002, 'amazing': 3003, 'courtney': 3004, 'aging': 3005, 'engaging': 3006, 'fleets': 3007, 'keychains': 3008, 'seats': 3009, 'stare': 3010, 'familia': 3011, 'inducted': 3012, 'instructed': 3013, 'stunt': 3014, 'having': 3015, 'lunch': 3016, 'debating': 3017, 'prices': 3018, 'midlife': 3019, 'crisis': 3020, 'deliver': 3021, 'midwife': 3022, 'nicest': 3023, 'grammy': 3024, 'speech': 3025, 'pinnacles': 3026, 'tells': 3027, 'flaw': 3028, \"wit'\": 3029, 'answer': 3030, 'hotline': 3031, 'choice': 3032, 'history': 3033, 'owls': 3034, 'tiffany': 3035, 'gunnas': 3036, 'epiphany': 3037, 'obvious': 3038, 'scenery': 3039, 'machinery': 3040, 'teena': 3041, 'marie': 3042, 'ethics': 3043, 'traditions': 3044, 'fashioned': 3045, 'monopoly': 3046, 'bronny': 3047, 'brentwood': 3048, 'akron': 3049, \"relaxin'\": 3050, \"overreactin'\": 3051, 'continue': 3052, 'insight': 3053, 'rode': 3054, 'bluff': 3055, 'fold': 3056, 'loro': 3057, 'piana': 3058, 'brioni': 3059, 'popper': 3060, 'doctor': 3061, 'tailor': 3062, 'grateful': 3063, 'diamond': 3064, 'wears': 3065, 'ankle': 3066, 'enemies': 3067, 'residency': 3068, 'nevada': 3069, 'gaming': 3070, 'commission': 3071, 'lend': 3072, \"rippin'\": 3073, 'markers': 3074, 'memory': 3075, 'interlude': 3076, 'benihana': 3077, 'pigeon': 3078, \"forgivin'\": 3079, '20s': 3080, 'connections': 3081, 'strictly': 3082, 'physical': 3083, 'miserable': 3084, 'biblical': 3085, 'digital': 3086, 'expresser': 3087, 'debt': 3088, 'collector': 3089, \"hailin'\": 3090, 'mecca': 3091, 'trudy': 3092, 'rebecca': 3093, 'controller': 3094, 'ayatollah': 3095, 'success': 3096, 'visions': 3097, 'haunted': 3098, 'thousands': 3099, 'villain': 3100, 'lagos': 3101, 'caicos': 3102, 'barbados': 3103, 'trinidad': 3104, 'tobago': 3105, 'vacations': 3106, 'basement': 3107, 'cambridge': 3108, 'language': 3109, 'borderline': 3110, 'approach': 3111, 'caution': 3112, 'belongings': 3113, 'auction': 3114, 'often': 3115, 'overseer': 3116, 'sport': 3117, 'presence': 3118, 'menacing': 3119, 'cosa': 3120, 'nostra': 3121, 'dealings': 3122, 'racketeering': 3123, 'syndicate': 3124, 'unsettling': 3125, 'regrets': 3126, \"name'll\": 3127, 'echo': 3128, 'greater': 3129, 'coward': 3130, 'traitor': 3131, 'nature': 3132, 'mmm': 3133, \"'cross\": 3134, 'raps': 3135, 'sat': 3136, 'charge': 3137, 'packs': 3138, 'stacks': 3139, 'slauson': 3140, 'watts': 3141, 'jazzy': 3142, 'killers': 3143, 'awe': 3144, 'mack': 3145, 'small': 3146, 'mall': 3147, 'hookup': 3148, 'rickey': 3149, \"smiley's\": 3150, 'decatur': 3151, 'yé': 3152, 'snitches': 3153, \"drippin'\": 3154, 'zillion': 3155, \"jumpin'\": 3156, 'zion': 3157, 'rebound': 3158, 'homies': 3159, 'dm': 3160, 'accountant': 3161, 'per': 3162, 'diem': 3163, 'ross': 3164, 'disorder': 3165, \"addressin'\": 3166, 'crown': 3167, 'mount': 3168, 'rushmore': 3169, 'expressions': 3170, 'investment': 3171, 'goat': 3172, \"sendin'\": 3173, 'scuffles': 3174, \"beginnin'\": 3175, 'label': 3176, 'independent': 3177, \"one'll\": 3178, \"gamblin'\": 3179, 'lottery': 3180, 'cream': 3181, 'crop': 3182, 'mollies': 3183, \"'malis\": 3184, 'coasts': 3185, 'stars': 3186, 'sharks': 3187, 'marked': 3188, 'hole': 3189, \"unsettlin'\": 3190, 'ace': 3191, 'sleeve': 3192, 'dealt': 3193, 'bernie': 3194, 'dresses': 3195, 'stopped': 3196, 'severed': 3197, 'tay': 3198, 'keith': 3199, 'bodies': 3200, \"ambidex'\": 3201, 'eurostep': 3202, 'sneaker': 3203, 'lebron': 3204, 'gimmicks': 3205, 'curtain': 3206, 'spitta': 3207, 'hitta': 3208, 'skinned': 3209, 'splitta': 3210, 'printer': 3211, 'gravedigger': 3212, 'misunderstandings': 3213, 'is–': 3214, 'ollie': 3215, 'standard': 3216, 'blind': 3217, 'gimme': 3218, 'amen': 3219, 'they’ll': 3220, \"mournin'\": 3221, '8am': 3222, 'pinky': 3223, 'slice': 3224, 'slime': 3225, 'bae': 3226, 'thizzle': 3227, 'bubba': 3228, 'buckingham': 3229, 'reasons': 3230, 'trillion': 3231, 'resilient': 3232, 'public': 3233, 'civilian': 3234, 'expense': 3235, 'haymon': 3236, 'events': 3237, 'percents': 3238, 'resents': 3239, 'represent': 3240, 'plate': 3241, 'delegate': 3242, 'drug': 3243, 'test': 3244, 'hunnids': 3245, 'bzz': 3246, 'mouth': 3247, 'contagious': 3248, 'haan': 3249, 'occasion': 3250, 'creighton': 3251, 'lady': 3252, 'hates': 3253, \"wifin'\": 3254, 'braden': 3255, \"pumpin'\": 3256, 'gas': 3257, 'cincinnati': 3258, 'dayton': 3259, 'gauge': 3260, 'satan': 3261, 'favourites': 3262, 'bid': 3263, 'begin': 3264, 'thesis': 3265, 'franny': 3266, 'aria': 3267, 'setup': 3268, 'freaknik': 3269, 'marineland': 3270, 'whale': 3271, 'treatment': 3272, 'georgie': 3273, \"sleepin'\": 3274, \"tweakin'\": 3275, 'ahhhhhhh': 3276, 'capture': 3277, \"meetin'\": 3278, 'heroes': 3279, 'magic': 3280, 'works': 3281, 'worse': 3282, 'actions': 3283, 'character': 3284, 'rehearse': 3285, 'brave': 3286, 'roads': 3287, 'paved': 3288, 'track': 3289, 'plays': 3290, 'iconic': 3291, 'duos': 3292, 'seams': 3293, 'hearted': 3294, 'extremes': 3295, 'limbo': 3296, 'motive': 3297, \"scrollin'\": 3298, \"fishin'\": 3299, 'praise': 3300, 'strangers': 3301, 'shade': 3302, 'underaged': 3303, 'afraid': 3304, \"lashin'\": 3305, \"else's\": 3306, 'version': 3307, \"excitin'\": 3308, 'mattered': 3309, \"impressin'\": 3310, 'latest': 3311, 'caption': 3312, 'happily': 3313, 'puts': 3314, 'saves': 3315, 'souls': 3316, 'debate': 3317, 'seed': 3318, 'blogs': 3319, 'wise': 3320, 'drained': 3321, 'inch': 3322, 'followers': 3323, 'calm': 3324, 'trouble': 3325, 'cuddle': 3326, 'outlive': 3327, 'yuh': 3328, 'finessed': 3329, 'weston': 3330, \"'nessed\": 3331, 'partly': 3332, '81': 3333, 'crashers': 3334, 'o2': 3335, 'o3': 3336, '40': 3337, 'oli': 3338, \"there'd\": 3339, \"'magine\": 3340, 'broskies': 3341, 'yep': 3342, 'scarlett': 3343, 'expect': 3344, 'support': 3345, '1991': 3346, 'flacko': 3347, 'jodye': 3348, 'videos': 3349, 'powered': 3350, 'chess': 3351, 'possessed': 3352, 'sms': 3353, 'triple': 3354, 'below': 3355, \"'least\": 3356, 'vest': 3357, 'box': 3358, 'grips': 3359, 'mic': 3360, 'amends': 3361, 'trainer': 3362, 'breathe': 3363, 'deadbeats': 3364, 'beats': 3365, 'product': 3366, 'estate': 3367, 'copperfield': 3368, 'presto': 3369, 'voilà': 3370, 'tada': 3371, 'son': 3372, 'helipad': 3373, 'smith': 3374, 'forum': 3375, 'staples': 3376, 'smokey': 3377, 'nanny': 3378, 'reset': 3379, 'sets': 3380, \"minglin'\": 3381, 'tabs': 3382, \"payin'\": 3383, 'vans': 3384, 'parked': 3385, 'haheheh': 3386, 'gle': 3387, 'lambo': 3388, 'rocket': 3389, 'grr': 3390, 'dada': 3391, 'escada': 3392, 'fool': 3393, 'shush': 3394, \"scorin'\": 3395, 'assists': 3396, 'reminisce': 3397, 'forty': 3398, 'chappelle': 3399, 'coffin': 3400, 'hammer': 3401, 'nail': 3402, 'blitz': 3403, 'uberx': 3404, 'tone': 3405, 'relocate': 3406, 'italy': 3407, 'comment': 3408, 'section': 3409, 'reps': 3410, \"splashin'\": 3411, 'accident': 3412, \"i'm–\": 3413, '45': 3414, 'haters': 3415, 'towel': 3416, 'yellowtail': 3417, 'tao': 3418, 'steal': 3419, 'satisfy': 3420, 'maverick': 3421, 'towards': 3422, 'louisville': 3423, 'gunners': 3424, 'rick': 3425, 'pitino': 3426, 'strip': 3427, 'clubs': 3428, 'casinos': 3429, 'stack': 3430, 'notes': 3431, 'scratched': 3432, 'preemo': 3433, 'opened': 3434, 'flower': 3435, 'shop': 3436, 'rope': 3437, 'indiana': 3438, 'jones': 3439, 'amber': 3440, 'ante': 3441, 'california': 3442, 'candy': 3443, 'nipsey': 3444, 'sammy': 3445, 'bandanas': 3446, 'swivel': 3447, 'dribble': 3448, 'whistle': 3449, 'energy': 3450, 'stones': 3451, 'crystals': 3452, 'casket': 3453, 'prison': 3454, 'adele': 3455, 'flowers': 3456, 'classic': 3457, 'crime': 3458, 'genovese': 3459, \"capisc'\": 3460, 'supermodels': 3461, 'mohamed': 3462, 'hadid': 3463, 'comic': 3464, 'relief': 3465, 'increase': 3466, \"climbin'\": 3467, 'initials': 3468, 'inscribed': 3469, 'sheets': 3470, 'reminders': 3471, 'key': 3472, 'spoiler': 3473, 'alert': 3474, 'tragic': 3475, 'wants': 3476, \"me's\": 3477, 'backstabbed': 3478, 'charlamagne': 3479, 'patches': 3480, 'born': 3481, 'godly': 3482, 'amongst': 3483, 'mortal': 3484, 'fence': 3485, 'mistakes': 3486, 'bird': 3487, '33rd': 3488, \"cursin'\": 3489, 'pentecost': 3490, 'holy': 3491, 'synagogue': 3492, \"protectin'\": 3493, 'dj': 3494, 'paul': 3495, 'twhy': 3496, \"6's\": 3497, 'dopeman': 3498, 'taken': 3499, 'lumps': 3500, 'sums': 3501, 'intentions': 3502, 'pure': 3503, 'mentions': 3504, 'stats': 3505, 'based': 3506, \"skippin'\": 3507, 'adapt': 3508, 'map': 3509, 'vent': 3510, \"bridgin'\": 3511, 'kilo': 3512, 'legend': 3513, 'shyne': 3514, 'flooded': 3515, 'indictments': 3516, 'heh': 3517, 'billion': 3518, '90': 3519, 'bricks': 3520, 'supreme': 3521, 'alpo': 3522, 'snitch': 3523, \"niggas'd\": 3524, \"tweetin'\": 3525, 'zimmerman': 3526, 'shhh': 3527, 'bargain': 3528, 'hardest': 3529, 'tropics': 3530, \"laughin'\": 3531, \"lackin'\": 3532, 'lack': 3533, 'responses': 3534, 'maya': 3535, 'angelou': 3536, 'vibes': 3537, \"smilin'\": 3538, 'boils': 3539, 'survive': 3540, 'flew': 3541, \"flickin'\": 3542, 'recognize': 3543, 'leg': 3544, 'destiny': 3545, 'doubt': 3546, 'dine': 3547, 'compass': 3548, 'breaks': 3549, 'south': 3550, 'digits': 3551, 'berry': 3552, 'blacker': 3553, 'juice': 3554, 'lyrics': 3555, 'loot': 3556, 'walt': 3557, 'disney': 3558, 'characters': 3559, 'mouses': 3560, 'goofs': 3561, 'challenged': 3562, 'recruits': 3563, 'talented': 3564, 'group': 3565, 'troops': 3566, 'reality': 3567, 'balances': 3568, 'due': 3569, 'recoup': 3570, \"d'angelo\": 3571, \"havin'\": 3572, 'yachts': 3573, '4th': 3574, 'g5': 3575, \"soarin'\": 3576, 'skies': 3577, 'corporate': 3578, 'asses': 3579, 'proportionate': 3580, 'size': 3581, \"healin'\": 3582, 'instant': 3583, 'beads': 3584, \"cupid's\": 3585, 'exciting': 3586, 'entirely': 3587, 'princess': 3588, 'heaven': 3589, 'diana': 3590, 'piquing': 3591, 'interest': 3592, 'peak': 3593, 'montana': 3594, 'england': 3595, 'breeds': 3596, 'proper': 3597, 'manners': 3598, 'reply': 3599, 'pleasantries': 3600, 'seat': 3601, 'allows': 3602, 'didn’t': 3603, 'bloodclaat': 3604, 'age': 3605, 'linking': 3606, \"'this\": 3607, \"see'\": 3608, 'lemme': 3609, 'is…': 3610, 'time—': 3611, \"chattin'\": 3612, 'honeymoon–': 3613, 'honeymoon': 3614, 'season': 3615, 'overdo': 3616, 'starting': 3617, 'led': 3618, 'unfollow': 3619, 'liking': 3620, 'like…': 3621, 'sane': 3622, 'leaving': 3623, \"dippin'\": 3624, 'mami': 3625, 'insecurities': 3626, 'dragged': 3627, \"family's\": 3628, \"'round's\": 3629, 'ink': 3630, 'skin': 3631, 'convinced': 3632, 'excited': 3633, 'lowdown': 3634, 'shameful': 3635, \"managin'\": 3636, 'opinionated': 3637, 'force': 3638, 'potential': 3639, 'shaped': 3640, 'caved': 3641, \"rushin'\": 3642, 'shared': 3643, 'musta': 3644, 'shifted': 3645, 'lens': 3646, \"representin'\": 3647, \"lettin'\": 3648, 'weezyana': 3649, \"peepin'\": 3650, 'cable': 3651, 'pics': 3652, 'tense': 3653, 'm': 3654, 'offline': 3655, 'overtime': 3656, 'breakdown': 3657, 'hitting': 3658, 'the–': 3659, 'cancelled': 3660, 'buttercups': 3661, 'ridiculous': 3662, 'ibiza': 3663, 'hotter': 3664, 'anitta': 3665, \"bakin'\": 3666, 'gg': 3667, \"cc's\": 3668, 'official': 3669, \"tickin'\": 3670, 'toll': 3671, 'draw': 3672, \"sidetrackin'\": 3673, 'and–': 3674, 'excuses': 3675, \"my…'cause\": 3676, 'mario': 3677, 'pluto': 3678, 'ronaldo': 3679, 'madrid': 3680, 'fight': 3681, 'info': 3682, \"stoppin'\": 3683, \"toppin'\": 3684, \"shoppin'\": 3685, 'earned': 3686, 'deserved': 3687, 'confirmed': 3688, 'jenny': 3689, 'special': 3690, \"'resha\": 3691, 'netflix': 3692, \"chill—what's\": 3693, 'al–': 3694, 'blake': 3695, 'trade': 3696, 'i–': 3697, 'skate': 3698, 'blaqnmild': 3699, 'photo': 3700, \"drinking's\": 3701, 'vice': 3702, 'suiting': 3703, 'fine': 3704, 'recover': 3705, 'conversation': 3706, 'tested': 3707, 'manhood': 3708, 'reputations': 3709, 'choose': 3710, \"creepin'\": 3711, 'assuming': 3712, \"drivin'\": 3713, 'offer': 3714, 'narrative': 3715, 'priority': 3716, 'faith': 3717, 'restored': 3718, 'dive': 3719, 'water': 3720, 'hooked': 3721, 'umm': 3722, 'wblk': 3723, 'hall': 3724, 'oates': 3725, '19': 3726, 'minutes': 3727, 'o’clock': 3728, 'thanks': 3729, 'requests': 3730, '644': 3731, '9393': 3732, 'troop': 3733, 'fantasia': 3734, 'chaka': 3735, 'khan': 3736, 'valentine': 3737, 'giving': 3738, 'selected': 3739, 'mr': 3740, 'luther': 3741, 'vandross': 3742, 'hour': 3743, 'selective': 3744, 'seductive': 3745, 'relaxing': 3746, 'loving': 3747, 'embrace': 3748, 'blk': 3749, 'dick': 3750, 'arch': 3751, 'cardiac': 3752, \"kai's\": 3753, 'kitchen': 3754, 'kshh': 3755, \"soothin'\": 3756, 'bases': 3757, 'es': 3758, 'oasises': 3759, 'freaky': 3760, 'zombie': 3761, 'revival': 3762, 'hi': 3763, 'faced': 3764, 'earth': 3765, \"shatterin'\": 3766, \"groundbreakin'\": 3767, 'headscarf': 3768, 'relations': 3769, 'judgment': 3770, 'arrangement': 3771, 'dare': 3772, 'prepared': 3773, 'smear': 3774, 'mascara': 3775, 'tears': 3776, 'sundown': 3777, 'apocalypse': 3778, 'somebody…': 3779, \"who'd\": 3780, 'yesterday': 3781, 'terms': 3782, 'billie': 3783, 'jean': 3784, 'sandi': 3785, 'father': 3786, 'embarrassed': 3787, 'parent': 3788, 'unit': 3789, 'harsh': 3790, 'tales': 3791, 'bedtime': 3792, 'loves': 3793, 'dedicated': 3794, 'celebrated': 3795, 'looks': 3796, \"raisin'\": 3797, 'gelo': 3798, 'mod': 3799, 'baccarats': 3800, 'cheers': 3801, 'generation': 3802, 'lived': 3803, 'saint': 3804, 'nick': 3805, 'gifts': 3806, 'grandfather': 3807, \"irony's\": 3808, 'sake': 3809, '11': 3810, \"ventin'\": 3811, 'hopefully': 3812, 'diplomatic': 3813, 'immunity': 3814, 'unity': 3815, 'ruin': 3816, \"slowin'\": 3817, 'journalistic': 3818, 'ballistic': 3819, 'report': 3820, 'booked': 3821, \"wally's\": 3822, \"twistin'\": 3823, 'cork': 3824, 'colored': 3825, 'olympics': 3826, \"huggin'\": 3827, 'scent': 3828, 'invented': 3829, 'fewest': 3830, 'truest': 3831, 'compare': 3832, 'student': 3833, 'factual': 3834, 'embassy': 3835, 'chapel': 3836, 'travel': 3837, 'solána': 3838, 'natural': 3839, 'international': 3840, 'furthest': 3841, 'flags': 3842, 'belong': 3843, 'codes': 3844, \"zonin'\": 3845, 'residential': 3846, 'spirits': 3847, 'sacred': 3848, 'temple': 3849, 'vodka': 3850, 'opposite': 3851, 'stencil': 3852, 'pencil': 3853, \"violatin'\": 3854, 'treaty': 3855, 'versailles': 3856, 'alias': 3857, 'cease': 3858, 'desist': 3859, 'refuse': 3860, 'comply': 3861, 'regulations': 3862, 'metal': 3863, 'meditation': 3864, 'sanders': 3865, 'detroit': 3866, 'lions': 3867, 'motor': 3868, 'cage': 3869, 'license': 3870, 'osirus': 3871, 'osiris': 3872, '30': 3873, 'tag': 3874, \"airin'\": 3875, 'laundry': 3876, 'catering': 3877, 'giorgio': 3878, 'baldi': 3879, \"robyn's\": 3880, 'prefer': 3881, 'madeo': 3882, 'tomato': 3883, 'sauce': 3884, \"claimin'\": 3885, 'preggo': 3886, \"forecastin'\": 3887, 'tornadoes': 3888, \"brainstormin'\": 3889, 'retaliation': 3890, 'tables': 3891, '2010': 3892, 'halo': 3893, 'rotterdam': 3894, 'topic': 3895, 'everyday': 3896, 'billboard': 3897, 'claimed': 3898, '13': 3899, 'sureños': 3900, 'excellence': 3901, 'goodie': 3902, 'pushed': 3903, \"stakin'\": 3904, 'gravy': 3905, 'protection': 3906, \"buddin'\": 3907, \"judgin'\": 3908, 'knowledge': 3909, 'contribute': 3910, 'security': 3911, 'government': 3912, 'tier': 3913, 'venue': 3914, 'exits': 3915, 'appearance': 3916, 'ceiling': 3917, 'royal': 3918, 'tv': 3919, 'jazeera': 3920, \"insha'allah\": 3921, 'mission': 3922, 'keeps': 3923, 'shakira': 3924, 'strength': 3925, 'overthrowing': 3926, 'you’ll': 3927, 'reaching': 3928, 'release': 3929, 'ripple': 3930, 'fate': 3931, 'stayin’': 3932, \"yo'\": 3933, 'almost': 3934, 'tapped': 3935, \"yappin'\": 3936, 'dom': 3937, 'silk': 3938, 'pajamas': 3939, 'miraval': 3940, 'boi': 3941, 'sanitize': 3942, 'gibbo': 3943, \"applebee's\": 3944, 'outback': 3945, 'southwest': 3946, 'hilton': 3947, 'rooms': 3948, 'writin’': 3949, 'recordin’': 3950, 'sororities': 3951, 'priorities': 3952, 'authority': 3953, 'rhetorical': 3954, 'oracle': 3955, 'its': 3956, 'poor': 3957, 'bound': 3958, \"'ye\": 3959, 'troublemaker': 3960, \"troublemakin'\": 3961, \"'n\": 3962, \"fightin'\": 3963, 'rumors': 3964, 'outchea': 3965, 'wheel': 3966, 'tha': 3967, 'talker': 3968, 'slam': 3969, 'yutes': 3970, 'questions': 3971, \"restin'\": 3972, 'chit': 3973, 'chat': 3974, 'wop': 3975, 'fixer': 3976, 'fif': 3977, 'sickaz': 3978, 'tanned': 3979, 'sixer': 3980, 'oversee': 3981, 'preme': 3982, 'err': 3983, 'tucked': 3984, 'splits': 3985, 'duppied': 3986, 'suckers': 3987, \"touchin'\": 3988, 'somethin’': 3989, \"wrappin'\": 3990, \"suckin'\": 3991, 'crutch': 3992, 'bucker': 3993, 'chucky': 3994, \"chuckin'\": 3995, 'hmm': 3996, 'spesh': 3997, 'flies': 3998, 'nutty': 3999, 'climbed': 4000, 'files': 4001, 'textbook': 4002, 'textiles': 4003, 'lighty': 4004, 'healthy': 4005, 'smiles': 4006, 'sexy': 4007, 'rate': 4008, 'cognac': 4009, 'glue': 4010, 'spread': 4011, 'butter': 4012, 'hollowman': 4013, 'giggs': 4014, 'flex': 4015, 'brap': 4016, 'mothafuckin’': 4017, 'mothafucka': 4018, 'y’all': 4019, 'drinks': 4020, 'ritualistic': 4021, \"cleansin'\": 4022, 'addiction': 4023, 'picket': 4024, 'fences': 4025, 'won’t': 4026, '’cause': 4027, 'fallin’': 4028, 'lane': 4029, 'script': 4030, 'equal': 4031, 'sequel': 4032, \"'specially\": 4033}\n",
      "total words: 4034\n"
     ]
    }
   ],
   "execution_count": 17
  },
  {
   "metadata": {
    "ExecuteTime": {
     "end_time": "2025-03-13T23:53:24.968040Z",
     "start_time": "2025-03-13T23:53:24.859399Z"
    }
   },
   "cell_type": "code",
   "source": [
    "# Initialize the sequences list\n",
    "input_sequences = []\n",
    "\n",
    "# Loop over every line\n",
    "for line in corpus:\n",
    "\n",
    "\t# Tokenize the current line\n",
    "\ttoken_list = tokenizer.texts_to_sequences([line])[0]\n",
    "\n",
    "\t# Loop over the line several times to generate the subphrases\n",
    "\tfor i in range(1, len(token_list)):\n",
    "\n",
    "\t\t# Generate the subphrase\n",
    "\t\tn_gram_sequence = token_list[:i+1]\n",
    "\n",
    "\t\t# Append the subphrase to the sequences list\n",
    "\t\tinput_sequences.append(n_gram_sequence)\n",
    "\n",
    "# Get the length of the longest line\n",
    "max_sequence_len = max([len(x) for x in input_sequences])\n",
    "\n",
    "# Pad all sequences\n",
    "input_sequences = pad_sequences(input_sequences, maxlen=max_sequence_len, padding='pre')\n",
    "\n",
    "# Create inputs and label by splitting the last token in the subphrases\n",
    "xs, labels = input_sequences[:,:-1],input_sequences[:,-1]\n",
    "\n",
    "# Convert the label into one-hot arrays\n",
    "ys = tf.keras.utils.to_categorical(labels, num_classes=total_words)"
   ],
   "outputs": [],
   "execution_count": 18
  },
  {
   "metadata": {
    "ExecuteTime": {
     "end_time": "2025-03-13T23:53:24.999230Z",
     "start_time": "2025-03-13T23:53:24.986042Z"
    }
   },
   "cell_type": "code",
   "source": "xs, ys",
   "outputs": [
    {
     "data": {
      "text/plain": [
       "(array([[  0,   0,   0, ...,   0,   0, 123],\n",
       "        [  0,   0,   0, ...,   0, 123,   9],\n",
       "        [  0,   0,   0, ..., 123,   9, 602],\n",
       "        ...,\n",
       "        [  0,   0,   0, ...,   2,  41, 112],\n",
       "        [  0,   0,   0, ...,  41, 112, 957],\n",
       "        [  0,   0,   0, ..., 112, 957, 474]]),\n",
       " array([[0., 0., 0., ..., 0., 0., 0.],\n",
       "        [0., 0., 0., ..., 0., 0., 0.],\n",
       "        [0., 0., 0., ..., 0., 0., 0.],\n",
       "        ...,\n",
       "        [0., 0., 0., ..., 0., 0., 0.],\n",
       "        [0., 0., 0., ..., 0., 0., 0.],\n",
       "        [0., 0., 0., ..., 0., 0., 0.]], dtype=float32))"
      ]
     },
     "execution_count": 19,
     "metadata": {},
     "output_type": "execute_result"
    }
   ],
   "execution_count": 19
  },
  {
   "metadata": {
    "ExecuteTime": {
     "end_time": "2025-03-13T23:53:32.064585Z",
     "start_time": "2025-03-13T23:53:25.015446Z"
    }
   },
   "cell_type": "code",
   "source": [
    "from sklearn.model_selection import train_test_split\n",
    "\n",
    "X_train, X_test, Y_train, Y_test = train_test_split(xs, ys, test_size=0.2, random_state=42)\n"
   ],
   "outputs": [],
   "execution_count": 20
  },
  {
   "metadata": {
    "ExecuteTime": {
     "end_time": "2025-03-13T23:53:32.095879Z",
     "start_time": "2025-03-13T23:53:32.081879Z"
    }
   },
   "cell_type": "code",
   "source": [
    "# Get sample sentence\n",
    "sentence = corpus[0].split()\n",
    "print(f'sample sentence: {sentence}')\n",
    "\n",
    "# Initialize token list\n",
    "token_list = []\n",
    "\n",
    "# Look up the indices of each word and append to the list\n",
    "for word in sentence:\n",
    "  token_list.append(tokenizer.word_index[word])\n",
    "\n",
    "# Print the token list\n",
    "print(token_list)"
   ],
   "outputs": [
    {
     "name": "stdout",
     "output_type": "stream",
     "text": [
      "sample sentence: ['put', 'my', 'feelings', 'on', 'ice']\n",
      "[123, 9, 602, 13, 351]\n"
     ]
    }
   ],
   "execution_count": 21
  },
  {
   "metadata": {
    "ExecuteTime": {
     "end_time": "2025-03-13T23:53:32.126880Z",
     "start_time": "2025-03-13T23:53:32.112879Z"
    }
   },
   "cell_type": "code",
   "source": [
    "# Pick element\n",
    "elem_number = 5\n",
    "\n",
    "# Print token list and phrase\n",
    "print(f'token list: {xs[elem_number]}')\n",
    "print(f'decoded to text: {tokenizer.sequences_to_texts([xs[elem_number]])}')\n",
    "\n",
    "# Print label\n",
    "print(f'one-hot label: {ys[elem_number]}')\n",
    "print(f'index of label: {np.argmax(ys[elem_number])}')"
   ],
   "outputs": [
    {
     "name": "stdout",
     "output_type": "stream",
     "text": [
      "token list: [  0   0   0   0   0   0   0   0   0   0   0   0   0   0   0   0   0   0\n",
      "   0   0   0   0   0   0   0   0   0   0   0   0   0   0   0   0   0   0\n",
      "   0   0   0   0   0   0   0   0   0   0   0   0   0   0   0   0   0   0\n",
      "   0   0   0   0   0   0   0   0   0   0   0   0   0   0   0   0   0   0\n",
      "   0   0   0   0   0   0   0   0   0   0   0   0   0   0   0   0   0   0\n",
      "   0   0   0   0   0   0   0   0   0   0   0   0   0   0   0   0   0   0\n",
      "   0   0   0   0   0   0   0   0   0   0   0   0   0   0   0   0   0   0\n",
      "   0   0 103  79]\n",
      "decoded to text: ['always been']\n",
      "one-hot label: [0. 0. 0. ... 0. 0. 0.]\n",
      "index of label: 7\n"
     ]
    }
   ],
   "execution_count": 22
  },
  {
   "metadata": {
    "ExecuteTime": {
     "end_time": "2025-03-13T23:53:32.156894Z",
     "start_time": "2025-03-13T23:53:32.143879Z"
    }
   },
   "cell_type": "code",
   "source": [
    "# Pick element\n",
    "elem_number = 4\n",
    "\n",
    "# Print token list and phrase\n",
    "print(f'token list: {xs[elem_number]}')\n",
    "print(f'decoded to text: {tokenizer.sequences_to_texts([xs[elem_number]])}')\n",
    "\n",
    "# Print label\n",
    "print(f'one-hot label: {ys[elem_number]}')\n",
    "print(f'index of label: {np.argmax(ys[elem_number])}')"
   ],
   "outputs": [
    {
     "name": "stdout",
     "output_type": "stream",
     "text": [
      "token list: [  0   0   0   0   0   0   0   0   0   0   0   0   0   0   0   0   0   0\n",
      "   0   0   0   0   0   0   0   0   0   0   0   0   0   0   0   0   0   0\n",
      "   0   0   0   0   0   0   0   0   0   0   0   0   0   0   0   0   0   0\n",
      "   0   0   0   0   0   0   0   0   0   0   0   0   0   0   0   0   0   0\n",
      "   0   0   0   0   0   0   0   0   0   0   0   0   0   0   0   0   0   0\n",
      "   0   0   0   0   0   0   0   0   0   0   0   0   0   0   0   0   0   0\n",
      "   0   0   0   0   0   0   0   0   0   0   0   0   0   0   0   0   0   0\n",
      "   0   0   0 103]\n",
      "decoded to text: ['always']\n",
      "one-hot label: [0. 0. 0. ... 0. 0. 0.]\n",
      "index of label: 79\n"
     ]
    }
   ],
   "execution_count": 23
  },
  {
   "metadata": {
    "ExecuteTime": {
     "end_time": "2025-03-13T23:53:32.592536Z",
     "start_time": "2025-03-13T23:53:32.173343Z"
    }
   },
   "cell_type": "code",
   "source": [
    "# Hyperparameters\n",
    "embedding_dim = 100\n",
    "lstm_units = 150\n",
    "learning_rate = 0.01\n",
    "\n",
    "# Build the model\n",
    "model = Sequential([\n",
    "          Embedding(total_words, embedding_dim, input_length=max_sequence_len-1),\n",
    "          Bidirectional(LSTM(lstm_units)),\n",
    "          Dense(total_words, activation='softmax')\n",
    "])\n",
    "\n",
    "# Use categorical crossentropy because this is a multi-class problem\n",
    "model.compile(\n",
    "    loss='categorical_crossentropy',\n",
    "    optimizer=tf.keras.optimizers.Adam(learning_rate=learning_rate),\n",
    "    metrics=['accuracy']\n",
    "    )\n",
    "\n",
    "# Print the model summary\n",
    "model.summary()"
   ],
   "outputs": [
    {
     "name": "stdout",
     "output_type": "stream",
     "text": [
      "Model: \"sequential\"\n",
      "_________________________________________________________________\n",
      " Layer (type)                Output Shape              Param #   \n",
      "=================================================================\n",
      " embedding (Embedding)       (None, 130, 100)          403400    \n",
      "                                                                 \n",
      " bidirectional (Bidirectiona  (None, 300)              301200    \n",
      " l)                                                              \n",
      "                                                                 \n",
      " dense (Dense)               (None, 4034)              1214234   \n",
      "                                                                 \n",
      "=================================================================\n",
      "Total params: 1,918,834\n",
      "Trainable params: 1,918,834\n",
      "Non-trainable params: 0\n",
      "_________________________________________________________________\n"
     ]
    }
   ],
   "execution_count": 24
  },
  {
   "metadata": {
    "ExecuteTime": {
     "end_time": "2025-03-13T23:53:32.623746Z",
     "start_time": "2025-03-13T23:53:32.609244Z"
    }
   },
   "cell_type": "code",
   "source": [
    "import torch\n",
    "device = 'cuda' if torch.cuda.is_available() else 'cpu'\n",
    "# Train the model\n",
    "import json\n",
    "from tensorflow.keras.callbacks import ModelCheckpoint\n",
    "\n",
    "def train_model(model, X_train, Y_train, X_test, Y_test, epochs=15, model_path=\"drake_lyrics_model.h5\", history_path=\"training_history.json\"):\n",
    "    \"\"\"\n",
    "    Trains the model and saves the best version along with training history.\n",
    "\n",
    "    Parameters:\n",
    "        model: Keras model to train\n",
    "        X_train, Y_train: Training data\n",
    "        X_test, Y_test: Validation data\n",
    "        epochs: Number of epochs (default: 50)\n",
    "        model_path: Path to save the trained model (default: \"drake_lyrics_model.h5\")\n",
    "        history_path: Path to save training history (default: \"training_history.json\")\n",
    "\n",
    "    Returns:\n",
    "        history: Training history object\n",
    "    \"\"\"\n",
    "    # Save only the best model based on validation loss\n",
    "    checkpoint = ModelCheckpoint(model_path, save_best_only=True, monitor=\"val_loss\", mode=\"min\")\n",
    "\n",
    "    # Train the model\n",
    "    history = model.fit(X_train, Y_train,\n",
    "                        epochs=epochs,\n",
    "                        validation_data=(X_test, Y_test),\n",
    "                        callbacks=[checkpoint])\n",
    "\n",
    "    # Save training history as JSON\n",
    "    history_dict = history.history\n",
    "    with open(history_path, \"w\") as f:\n",
    "        json.dump(history_dict, f)\n",
    "\n",
    "    print(f\"\\n✅ Model saved to: {model_path}\")\n",
    "    print(f\"📊 Training history saved to: {history_path}\")\n",
    "\n",
    "    return history\n"
   ],
   "outputs": [],
   "execution_count": 25
  },
  {
   "metadata": {
    "ExecuteTime": {
     "end_time": "2025-03-14T00:34:40.783304Z",
     "start_time": "2025-03-13T23:53:32.640746Z"
    }
   },
   "cell_type": "code",
   "source": "history = train_model(model, X_train, Y_train, X_test, Y_test, epochs=15)\n",
   "outputs": [
    {
     "name": "stdout",
     "output_type": "stream",
     "text": [
      "Epoch 1/15\n",
      "766/766 [==============================] - 153s 197ms/step - loss: 6.1738 - accuracy: 0.0737 - val_loss: 5.7219 - val_accuracy: 0.1205\n",
      "Epoch 2/15\n",
      "766/766 [==============================] - 161s 210ms/step - loss: 5.0394 - accuracy: 0.1584 - val_loss: 5.5369 - val_accuracy: 0.1706\n",
      "Epoch 3/15\n",
      "766/766 [==============================] - 171s 224ms/step - loss: 4.2097 - accuracy: 0.2257 - val_loss: 5.6057 - val_accuracy: 0.1952\n",
      "Epoch 4/15\n",
      "766/766 [==============================] - 172s 225ms/step - loss: 3.5299 - accuracy: 0.2894 - val_loss: 5.8272 - val_accuracy: 0.2148\n",
      "Epoch 5/15\n",
      "766/766 [==============================] - 172s 224ms/step - loss: 3.0109 - accuracy: 0.3537 - val_loss: 6.0050 - val_accuracy: 0.2275\n",
      "Epoch 6/15\n",
      "766/766 [==============================] - 172s 224ms/step - loss: 2.6155 - accuracy: 0.4103 - val_loss: 6.2613 - val_accuracy: 0.2375\n",
      "Epoch 7/15\n",
      "766/766 [==============================] - 171s 224ms/step - loss: 2.3517 - accuracy: 0.4556 - val_loss: 6.4995 - val_accuracy: 0.2318\n",
      "Epoch 8/15\n",
      "766/766 [==============================] - 168s 219ms/step - loss: 2.1213 - accuracy: 0.4952 - val_loss: 6.6893 - val_accuracy: 0.2399\n",
      "Epoch 9/15\n",
      "766/766 [==============================] - 170s 222ms/step - loss: 1.9915 - accuracy: 0.5208 - val_loss: 6.9064 - val_accuracy: 0.2394\n",
      "Epoch 10/15\n",
      "766/766 [==============================] - 170s 222ms/step - loss: 1.8776 - accuracy: 0.5432 - val_loss: 7.0340 - val_accuracy: 0.2478\n",
      "Epoch 11/15\n",
      "766/766 [==============================] - 170s 223ms/step - loss: 1.8025 - accuracy: 0.5575 - val_loss: 7.1717 - val_accuracy: 0.2509\n",
      "Epoch 12/15\n",
      "766/766 [==============================] - 160s 209ms/step - loss: 1.7406 - accuracy: 0.5700 - val_loss: 7.3224 - val_accuracy: 0.2515\n",
      "Epoch 13/15\n",
      "766/766 [==============================] - 153s 199ms/step - loss: 1.6775 - accuracy: 0.5822 - val_loss: 7.5001 - val_accuracy: 0.2510\n",
      "Epoch 14/15\n",
      "766/766 [==============================] - 152s 199ms/step - loss: 1.6679 - accuracy: 0.5815 - val_loss: 7.6631 - val_accuracy: 0.2510\n",
      "Epoch 15/15\n",
      "766/766 [==============================] - 153s 200ms/step - loss: 1.6388 - accuracy: 0.5879 - val_loss: 7.7897 - val_accuracy: 0.2509\n",
      "\n",
      "✅ Model saved to: drake_lyrics_model.h5\n",
      "📊 Training history saved to: training_history.json\n"
     ]
    }
   ],
   "execution_count": 26
  },
  {
   "metadata": {
    "ExecuteTime": {
     "end_time": "2025-03-14T00:34:41.203823Z",
     "start_time": "2025-03-14T00:34:40.878401Z"
    }
   },
   "cell_type": "code",
   "source": [
    "from tensorflow.keras.models import load_model\n",
    "\n",
    "# Load the saved model\n",
    "my_model = load_model(\"drake_lyrics_model.h5\")\n"
   ],
   "outputs": [],
   "execution_count": 27
  },
  {
   "metadata": {
    "ExecuteTime": {
     "end_time": "2025-03-14T00:34:41.218823Z",
     "start_time": "2025-03-14T00:34:41.208823Z"
    }
   },
   "cell_type": "code",
   "source": [
    "\n",
    "\n",
    "import matplotlib.pyplot as plt\n",
    "\n",
    "# Plot utility\n",
    "def plot_graphs(history, string):\n",
    "  plt.plot(history.history[string])\n",
    "  plt.xlabel(\"Epochs\")\n",
    "  plt.ylabel(string)\n",
    "  plt.show()\n",
    "\n",
    "# Visualize the accuracy\n",
    "plot_graphs(history, 'accuracy')\n"
   ],
   "outputs": [
    {
     "data": {
      "text/plain": [
       "'\\n\\nimport matplotlib.pyplot as plt\\n\\n# Plot utility\\ndef plot_graphs(history, string):\\n  plt.plot(history.history[string])\\n  plt.xlabel(\"Epochs\")\\n  plt.ylabel(string)\\n  plt.show()\\n\\n# Visualize the accuracy\\nplot_graphs(history, \\'accuracy\\')\\n'"
      ]
     },
     "execution_count": 28,
     "metadata": {},
     "output_type": "execute_result"
    }
   ],
   "execution_count": 28
  },
  {
   "metadata": {},
   "cell_type": "markdown",
   "source": "Profanity Handler"
  },
  {
   "metadata": {
    "ExecuteTime": {
     "end_time": "2025-03-14T00:34:41.328823Z",
     "start_time": "2025-03-14T00:34:41.235824Z"
    }
   },
   "cell_type": "code",
   "source": [
    "from better_profanity import profanity\n",
    "\n",
    "\n",
    "def censor_word(word):\n",
    "    return profanity.censor(word)  # Replaces curse words with '*'"
   ],
   "outputs": [],
   "execution_count": 29
  },
  {
   "metadata": {},
   "cell_type": "markdown",
   "source": "Generation of lyrics"
  },
  {
   "metadata": {
    "ExecuteTime": {
     "end_time": "2025-03-14T00:34:45.212076Z",
     "start_time": "2025-03-14T00:34:41.345823Z"
    }
   },
   "cell_type": "code",
   "source": [
    "import numpy as np\n",
    "\n",
    "def generate_lyrics(seed_text, next_words=100, temperature=0.8, repetition_threshold=3):\n",
    "    word_counts = {}  # Track word occurrences\n",
    "\n",
    "    for _ in range(next_words):\n",
    "        # Convert seed text to token sequence\n",
    "        token_list = tokenizer.texts_to_sequences([seed_text])[0]\n",
    "        token_list = pad_sequences([token_list], maxlen=max_sequence_len - 1, padding='pre')\n",
    "\n",
    "        # Get model predictions\n",
    "        probabilities = model.predict(token_list, verbose=0)[0]\n",
    "\n",
    "        # Apply temperature scaling for diversity\n",
    "        probabilities = np.log(probabilities + 1e-10) / temperature  # Avoid log(0)\n",
    "        probabilities = np.exp(probabilities) / np.sum(np.exp(probabilities))  # Softmax\n",
    "\n",
    "        # Pick the next word index based on adjusted probabilities\n",
    "        predicted_index = np.random.choice(len(probabilities), p=probabilities)\n",
    "\n",
    "        if predicted_index == 0:\n",
    "            continue  # Skip padding\n",
    "\n",
    "        # Convert index to word\n",
    "        output_word = tokenizer.index_word.get(predicted_index, \"\")\n",
    "\n",
    "        # Check if word is repeating too much\n",
    "        word_counts[output_word] = word_counts.get(output_word, 0) + 1\n",
    "        if word_counts[output_word] > repetition_threshold:\n",
    "            continue  # Skip word if it's repeated too much\n",
    "        output_word = profanity.censor(output_word)\n",
    "        # Append to seed text\n",
    "        seed_text += \" \" + output_word\n",
    "\n",
    "    return seed_text\n",
    "\n",
    "\n",
    "seed_text = generate_lyrics(\"sunshine this morning\", next_words=100, temperature=0.8)\n",
    "# Test lyric generation\n",
    "print(seed_text)\n"
   ],
   "outputs": [
    {
     "name": "stdout",
     "output_type": "stream",
     "text": [
      "sunshine this morning here speak on some coach is i'm i'm i'm bridgin' the entrance and and never that's doin' a man a **** suitcase off my racks in the snow for you and call me coming live life like he still on you al– **** **** so i could hold for your headtop what is drop on the hands or whoa yeah yeah yeah\n"
     ]
    }
   ],
   "execution_count": 30
  },
  {
   "metadata": {},
   "cell_type": "markdown",
   "source": "Evaluation\n"
  },
  {
   "metadata": {},
   "cell_type": "markdown",
   "source": "Vader evaluation\n"
  },
  {
   "metadata": {
    "ExecuteTime": {
     "end_time": "2025-03-14T00:34:45.274339Z",
     "start_time": "2025-03-14T00:34:45.229062Z"
    }
   },
   "cell_type": "code",
   "source": [
    "\n",
    "from vaderSentiment.vaderSentiment import SentimentIntensityAnalyzer\n"
   ],
   "outputs": [],
   "execution_count": 31
  },
  {
   "metadata": {
    "ExecuteTime": {
     "end_time": "2025-03-14T00:34:45.336054Z",
     "start_time": "2025-03-14T00:34:45.290516Z"
    }
   },
   "cell_type": "code",
   "source": [
    "analyzer = SentimentIntensityAnalyzer()\n",
    "\n",
    "def vader_sentiment(text):\n",
    "    scores = analyzer.polarity_scores(text)  # Get sentiment scores\n",
    "    return scores  # Returns dictionary with positive, negative, neutral, and compound score\n",
    "\n",
    "# Test\n",
    "print(vader_sentiment(seed_text))\n"
   ],
   "outputs": [
    {
     "name": "stdout",
     "output_type": "stream",
     "text": [
      "{'neg': 0.029, 'neu': 0.804, 'pos': 0.168, 'compound': 0.8481}\n"
     ]
    }
   ],
   "execution_count": 32
  },
  {
   "metadata": {},
   "cell_type": "markdown",
   "source": "\n"
  },
  {
   "metadata": {},
   "cell_type": "markdown",
   "source": ""
  },
  {
   "metadata": {
    "ExecuteTime": {
     "end_time": "2025-03-14T00:34:50.016683Z",
     "start_time": "2025-03-14T00:34:45.353088Z"
    }
   },
   "cell_type": "code",
   "source": [
    "import nltk\n",
    "from nltk.sentiment import SentimentIntensityAnalyzer\n",
    "\n",
    "nltk.download('vader_lexicon')\n",
    "sia = SentimentIntensityAnalyzer()\n"
   ],
   "outputs": [
    {
     "name": "stderr",
     "output_type": "stream",
     "text": [
      "[nltk_data] Downloading package vader_lexicon to\n",
      "[nltk_data]     C:\\Users\\cioba\\AppData\\Roaming\\nltk_data...\n",
      "[nltk_data]   Package vader_lexicon is already up-to-date!\n"
     ]
    }
   ],
   "execution_count": 33
  },
  {
   "metadata": {
    "ExecuteTime": {
     "end_time": "2025-03-14T00:34:50.046879Z",
     "start_time": "2025-03-14T00:34:50.033683Z"
    }
   },
   "cell_type": "code",
   "source": [
    "def analyze_lyrics_sentiment(lyrics):\n",
    "    sentiment_scores = sia.polarity_scores(lyrics)\n",
    "\n",
    "    # Extract individual scores\n",
    "    compound = sentiment_scores['compound']  # Overall sentiment score\n",
    "    pos = sentiment_scores['pos']  # Positive percentage\n",
    "    neu = sentiment_scores['neu']  # Neutral percentage\n",
    "    neg = sentiment_scores['neg']  # Negative percentage\n",
    "\n",
    "    # Determine overall sentiment label\n",
    "    if compound >= 0.05:\n",
    "        sentiment_label = \"Positive 😊\"\n",
    "    elif compound <= -0.05:\n",
    "        sentiment_label = \"Negative 😢\"\n",
    "    else:\n",
    "        sentiment_label = \"Neutral 😐\"\n",
    "\n",
    "    # Print results\n",
    "    print(\"\\n🎵 Sentiment Analysis of Generated Lyrics 🎵\\n\")\n",
    "    print(f\"Overall Sentiment: {sentiment_label}\")\n",
    "    print(f\"Positive: {pos*100:.2f}% | Neutral: {neu*100:.2f}% | Negative: {neg*100:.2f}%\\n\")\n",
    "\n",
    "    return sentiment_scores\n"
   ],
   "outputs": [],
   "execution_count": 34
  },
  {
   "metadata": {
    "ExecuteTime": {
     "end_time": "2025-03-14T00:34:50.077902Z",
     "start_time": "2025-03-14T00:34:50.063902Z"
    }
   },
   "cell_type": "code",
   "source": "analyze_lyrics_sentiment(seed_text)",
   "outputs": [
    {
     "name": "stdout",
     "output_type": "stream",
     "text": [
      "\n",
      "🎵 Sentiment Analysis of Generated Lyrics 🎵\n",
      "\n",
      "Overall Sentiment: Positive 😊\n",
      "Positive: 17.50% | Neutral: 79.50% | Negative: 3.00%\n",
      "\n"
     ]
    },
    {
     "data": {
      "text/plain": [
       "{'neg': 0.03, 'neu': 0.795, 'pos': 0.175, 'compound': 0.8481}"
      ]
     },
     "execution_count": 35,
     "metadata": {},
     "output_type": "execute_result"
    }
   ],
   "execution_count": 35
  },
  {
   "metadata": {
    "ExecuteTime": {
     "end_time": "2025-03-14T00:34:50.109902Z",
     "start_time": "2025-03-14T00:34:50.095902Z"
    }
   },
   "cell_type": "code",
   "source": [
    "def categorize_lyrics(lyrics):\n",
    "    sentiment_scores = sia.polarity_scores(lyrics)\n",
    "    compound = sentiment_scores['compound']\n",
    "\n",
    "    if compound >= 0.3:\n",
    "        return \"🎶 Happy Vibes!\"\n",
    "    elif compound <= -0.3:\n",
    "        return \"💔 Sad & Emotional\"\n",
    "    else:\n",
    "        return \"😐 Chill & Neutral\"\n",
    "\n",
    "# Example Usage\n",
    "print(\"Mood of the song:\", categorize_lyrics(seed_text))\n"
   ],
   "outputs": [
    {
     "name": "stdout",
     "output_type": "stream",
     "text": [
      "Mood of the song: 🎶 Happy Vibes!\n"
     ]
    }
   ],
   "execution_count": 36
  },
  {
   "metadata": {
    "ExecuteTime": {
     "end_time": "2025-03-14T00:34:52.374568Z",
     "start_time": "2025-03-14T00:34:50.126902Z"
    }
   },
   "cell_type": "code",
   "source": [
    "import matplotlib.pyplot as plt\n",
    "\n",
    "def plot_sentiment_over_verses(lyrics):\n",
    "    verses = lyrics.split(\"\\n\")  # Split lyrics into lines\n",
    "    sentiments = [sia.polarity_scores(verse)[\"compound\"] for verse in verses if verse.strip()]\n",
    "\n",
    "    plt.figure(figsize=(10, 4))\n",
    "    plt.plot(sentiments, marker='o', linestyle='-', color='b', label=\"Sentiment Score\")\n",
    "    plt.axhline(y=0, color='black', linestyle='--', linewidth=1)\n",
    "    plt.xlabel(\"Verse\")\n",
    "    plt.ylabel(\"Sentiment Score\")\n",
    "    plt.title(\"Sentiment Variation Over Song Verses\")\n",
    "    plt.legend()\n",
    "    plt.show()\n",
    "\n",
    "# Example Usage\n",
    "plot_sentiment_over_verses(seed_text)\n"
   ],
   "outputs": [
    {
     "data": {
      "text/plain": [
       "<Figure size 1000x400 with 1 Axes>"
      ],
      "image/png": "[encoded data removed]"
     },
     "metadata": {},
     "output_type": "display_data"
    }
   ],
   "execution_count": 37
  },
  {
   "metadata": {
    "ExecuteTime": {
     "end_time": "2025-03-14T00:35:06.418031Z",
     "start_time": "2025-03-14T00:34:52.390730Z"
    }
   },
   "cell_type": "code",
   "source": [
    "from language_tool_python import LanguageTool\n",
    "\n",
    "tool = LanguageTool(\"en-US\")\n",
    "\n",
    "def check_grammar(text):\n",
    "    matches = tool.check(text)\n",
    "    return matches if matches else \"No major grammar issues\"\n",
    "\n",
    "# Test\n",
    "print(check_grammar(seed_text))\n"
   ],
   "outputs": [
    {
     "name": "stdout",
     "output_type": "stream",
     "text": [
      "[Match({'ruleId': 'UPPERCASE_SENTENCE_START', 'message': 'This sentence does not start with an uppercase letter.', 'replacements': ['Sunshine'], 'offsetInContext': 0, 'context': 'sunshine this morning here speak on some coach i...', 'offset': 0, 'errorLength': 8, 'category': 'CASING', 'ruleIssueType': 'typographical', 'sentence': \"sunshine this morning here speak on some coach is i'm i'm i'm bridgin' the entrance and and never that's doin' a man a **** suitcase off my racks in the snow for you and call me coming live life like he still on you al– **** **** so i could hold for your headtop what is drop on the hands or whoa yeah yeah yeah\"}), Match({'ruleId': 'I_LOWERCASE', 'message': 'The personal pronoun “I” should be uppercase.', 'replacements': ['I'], 'offsetInContext': 43, 'context': \"...his morning here speak on some coach is i'm i'm i'm bridgin' the entrance and and...\", 'offset': 50, 'errorLength': 1, 'category': 'TYPOS', 'ruleIssueType': 'misspelling', 'sentence': \"sunshine this morning here speak on some coach is i'm i'm i'm bridgin' the entrance and and never that's doin' a man a **** suitcase off my racks in the snow for you and call me coming live life like he still on you al– **** **** so i could hold for your headtop what is drop on the hands or whoa yeah yeah yeah\"}), Match({'ruleId': 'I_LOWERCASE', 'message': 'The personal pronoun “I” should be uppercase.', 'replacements': ['I'], 'offsetInContext': 43, 'context': \"...morning here speak on some coach is i'm i'm i'm bridgin' the entrance and and nev...\", 'offset': 54, 'errorLength': 1, 'category': 'TYPOS', 'ruleIssueType': 'misspelling', 'sentence': \"sunshine this morning here speak on some coach is i'm i'm i'm bridgin' the entrance and and never that's doin' a man a **** suitcase off my racks in the snow for you and call me coming live life like he still on you al– **** **** so i could hold for your headtop what is drop on the hands or whoa yeah yeah yeah\"}), Match({'ruleId': 'I_LOWERCASE', 'message': 'The personal pronoun “I” should be uppercase.', 'replacements': ['I'], 'offsetInContext': 43, 'context': \"...ing here speak on some coach is i'm i'm i'm bridgin' the entrance and and never t...\", 'offset': 58, 'errorLength': 1, 'category': 'TYPOS', 'ruleIssueType': 'misspelling', 'sentence': \"sunshine this morning here speak on some coach is i'm i'm i'm bridgin' the entrance and and never that's doin' a man a **** suitcase off my racks in the snow for you and call me coming live life like he still on you al– **** **** so i could hold for your headtop what is drop on the hands or whoa yeah yeah yeah\"}), Match({'ruleId': 'ENGLISH_WORD_REPEAT_RULE', 'message': 'Possible typo: you repeated a word', 'replacements': ['and'], 'offsetInContext': 43, 'context': \"...ch is i'm i'm i'm bridgin' the entrance and and never that's doin' a man a **** suitcas...\", 'offset': 84, 'errorLength': 7, 'category': 'MISC', 'ruleIssueType': 'duplication', 'sentence': \"sunshine this morning here speak on some coach is i'm i'm i'm bridgin' the entrance and and never that's doin' a man a **** suitcase off my racks in the snow for you and call me coming live life like he still on you al– **** **** so i could hold for your headtop what is drop on the hands or whoa yeah yeah yeah\"}), Match({'ruleId': 'MORFOLOGIK_RULE_EN_US', 'message': 'Possible spelling mistake found.', 'replacements': ['all', 'Al', 'AL', 'a', 'as', 'at', 'an', 'am', 'eye', 'ad', 'SL', 'AF', 'AOL', 'DL', 'ale', 'ml', 'ARL', 'RL', 'ah', 'cal', 'gal', 'pal', 'AD', 'ALU', 'JAL', 'av', 'ax', 'NAL', 'cl', 'val', 'alp', 'awl', 'ail', 'Ali', 'A', 'AA', 'AAL', 'AB', 'ABL', 'AC', 'ACL', 'ADL', 'AE', 'AEL', 'AFL', 'AG', 'AGL', 'AHL', 'AI', 'AJ', 'AJL', 'AK', 'AKL', 'ALB', 'ALC', 'ALD', 'ALE', 'ALF', 'ALG', 'ALH', 'ALJ', 'ALK', 'ALL', 'ALM', 'ALN', 'ALO', 'ALP', 'ALQ', 'ALR', 'ALS', 'ALV', 'ALW', 'ALX', 'ALZ', 'AM', 'AML', 'AN', 'ANL', 'AO', 'AP', 'APL', 'AQL', 'AR', 'ASL', 'AT', 'ATL', 'AU', 'AUL', 'AV', 'AVL', 'AX', 'AXL', 'AYL', 'AZ', 'Ac', 'Ag', 'Ala', 'Am', 'Ar', 'As', 'At', 'Au', 'Av', 'CAL', 'CL', 'Cal', 'Cl', 'DAL', 'EAL', 'El', 'FL', 'GAL', 'GL', 'HL', 'Hal', 'IL', 'KAL', 'L', 'LL', 'MAL', 'ML', 'NL', 'OAL', 'PAL', 'PL', 'Pl', 'Sal', 'TL', 'Tl', 'UAL', 'UL', 'Val', 'XL', 'YL', 'ab', 'ac', 'ai', 'alb', 'alt', 'aw', 'bl', 'fl', 'kl', 'l', 'la', 'll', 'mL', 'pl'], 'offsetInContext': 43, 'context': '...e coming live life like he still on you al– **** **** so i could hold for your hea...', 'offset': 216, 'errorLength': 2, 'category': 'TYPOS', 'ruleIssueType': 'misspelling', 'sentence': \"sunshine this morning here speak on some coach is i'm i'm i'm bridgin' the entrance and and never that's doin' a man a **** suitcase off my racks in the snow for you and call me coming live life like he still on you al– **** **** so i could hold for your headtop what is drop on the hands or whoa yeah yeah yeah\"}), Match({'ruleId': 'I_LOWERCASE', 'message': 'The personal pronoun “I” should be uppercase.', 'replacements': ['I'], 'offsetInContext': 43, 'context': '...e like he still on you al– **** **** so i could hold for your headtop what is dro...', 'offset': 233, 'errorLength': 1, 'category': 'TYPOS', 'ruleIssueType': 'misspelling', 'sentence': \"sunshine this morning here speak on some coach is i'm i'm i'm bridgin' the entrance and and never that's doin' a man a **** suitcase off my racks in the snow for you and call me coming live life like he still on you al– **** **** so i could hold for your headtop what is drop on the hands or whoa yeah yeah yeah\"}), Match({'ruleId': 'MORFOLOGIK_RULE_EN_US', 'message': 'Possible spelling mistake found.', 'replacements': ['head top'], 'offsetInContext': 43, 'context': '... al– **** **** so i could hold for your headtop what is drop on the hands or whoa yeah ...', 'offset': 255, 'errorLength': 7, 'category': 'TYPOS', 'ruleIssueType': 'misspelling', 'sentence': \"sunshine this morning here speak on some coach is i'm i'm i'm bridgin' the entrance and and never that's doin' a man a **** suitcase off my racks in the snow for you and call me coming live life like he still on you al– **** **** so i could hold for your headtop what is drop on the hands or whoa yeah yeah yeah\"})]\n"
     ]
    }
   ],
   "execution_count": 38
  },
  {
   "metadata": {
    "ExecuteTime": {
     "end_time": "2025-03-14T00:35:06.449046Z",
     "start_time": "2025-03-14T00:35:06.436033Z"
    }
   },
   "cell_type": "code",
   "source": [
    "def detect_repetitions(text):\n",
    "    words = text.split()\n",
    "    repeated = {word for word in words if words.count(word) > 3}\n",
    "    return repeated if repeated else \"No excessive repetitions\"\n",
    "\n",
    "# Test\n",
    "print(detect_repetitions(seed_text))\n"
   ],
   "outputs": [
    {
     "name": "stdout",
     "output_type": "stream",
     "text": [
      "No excessive repetitions\n"
     ]
    }
   ],
   "execution_count": 39
  },
  {
   "metadata": {
    "ExecuteTime": {
     "end_time": "2025-03-14T00:35:06.481047Z",
     "start_time": "2025-03-14T00:35:06.467032Z"
    }
   },
   "cell_type": "code",
   "source": [
    "import re\n",
    "\n",
    "def check_theme_relevance(text, keywords=None):\n",
    "    if keywords is None:\n",
    "        keywords = [\"Toronto\", \"6\", \"Bentley\", \"gold\", \"luxury\", \"money\", \"OVO\", \"Rolls\", \"chains\", \"VIP\"]\n",
    "\n",
    "    # Convert text to lowercase for case-insensitive matching\n",
    "    text_lower = text.lower()\n",
    "\n",
    "    # Use regex to find exact word matches\n",
    "    matches = [word for word in keywords if re.search(rf'\\b{re.escape(word.lower())}\\b', text_lower)]\n",
    "\n",
    "    if matches:\n",
    "        return {\"relevant_words\": matches, \"relevance_score\": len(matches) / len(keywords)}\n",
    "    return {\"relevant_words\": [], \"relevance_score\": 0.0}\n",
    "\n",
    "# Test\n",
    "print(check_theme_relevance(seed_text))\n"
   ],
   "outputs": [
    {
     "name": "stdout",
     "output_type": "stream",
     "text": [
      "{'relevant_words': [], 'relevance_score': 0.0}\n"
     ]
    }
   ],
   "execution_count": 40
  },
  {
   "metadata": {
    "ExecuteTime": {
     "end_time": "2025-03-14T00:35:11.546281Z",
     "start_time": "2025-03-14T00:35:06.499033Z"
    }
   },
   "cell_type": "code",
   "source": [
    "test_loss, test_accuracy = model.evaluate(X_test, Y_test)\n",
    "print(f\"Test Loss: {test_loss:.4f}\")\n",
    "print(f\"Test Accuracy: {test_accuracy:.4f}\")\n"
   ],
   "outputs": [
    {
     "name": "stdout",
     "output_type": "stream",
     "text": [
      "192/192 [==============================] - 5s 26ms/step - loss: 7.7897 - accuracy: 0.2509\n",
      "Test Loss: 7.7897\n",
      "Test Accuracy: 0.2509\n"
     ]
    }
   ],
   "execution_count": 41
  },
  {
   "metadata": {
    "ExecuteTime": {
     "end_time": "2025-03-14T00:35:14.255540Z",
     "start_time": "2025-03-14T00:35:11.563285Z"
    }
   },
   "cell_type": "code",
   "source": "!pip install torch",
   "outputs": [
    {
     "name": "stdout",
     "output_type": "stream",
     "text": [
      "Defaulting to user installation because normal site-packages is not writeable\n",
      "Requirement already satisfied: torch in c:\\users\\cioba\\appdata\\local\\packages\\pythonsoftwarefoundation.python.3.10_qbz5n2kfra8p0\\localcache\\local-packages\\python312\\site-packages (2.6.0)\n",
      "Requirement already satisfied: filelock in c:\\users\\cioba\\appdata\\local\\packages\\pythonsoftwarefoundation.python.3.10_qbz5n2kfra8p0\\localcache\\local-packages\\python312\\site-packages (from torch) (3.17.0)\n",
      "Requirement already satisfied: typing-extensions>=4.10.0 in c:\\users\\cioba\\appdata\\local\\packages\\pythonsoftwarefoundation.python.3.10_qbz5n2kfra8p0\\localcache\\local-packages\\python312\\site-packages (from torch) (4.12.2)\n",
      "Requirement already satisfied: networkx in c:\\users\\cioba\\appdata\\local\\packages\\pythonsoftwarefoundation.python.3.10_qbz5n2kfra8p0\\localcache\\local-packages\\python312\\site-packages (from torch) (3.4.2)\n",
      "Requirement already satisfied: jinja2 in c:\\users\\cioba\\appdata\\local\\packages\\pythonsoftwarefoundation.python.3.10_qbz5n2kfra8p0\\localcache\\local-packages\\python312\\site-packages (from torch) (3.1.6)\n",
      "Requirement already satisfied: fsspec in c:\\users\\cioba\\appdata\\local\\packages\\pythonsoftwarefoundation.python.3.10_qbz5n2kfra8p0\\localcache\\local-packages\\python312\\site-packages (from torch) (2025.3.0)\n",
      "Requirement already satisfied: setuptools in c:\\users\\cioba\\appdata\\local\\packages\\pythonsoftwarefoundation.python.3.10_qbz5n2kfra8p0\\localcache\\local-packages\\python312\\site-packages (from torch) (76.0.0)\n",
      "Requirement already satisfied: sympy==1.13.1 in c:\\users\\cioba\\appdata\\local\\packages\\pythonsoftwarefoundation.python.3.10_qbz5n2kfra8p0\\localcache\\local-packages\\python312\\site-packages (from torch) (1.13.1)\n",
      "Requirement already satisfied: mpmath<1.4,>=1.1.0 in c:\\users\\cioba\\appdata\\local\\packages\\pythonsoftwarefoundation.python.3.10_qbz5n2kfra8p0\\localcache\\local-packages\\python312\\site-packages (from sympy==1.13.1->torch) (1.3.0)\n",
      "Requirement already satisfied: MarkupSafe>=2.0 in c:\\users\\cioba\\appdata\\local\\packages\\pythonsoftwarefoundation.python.3.10_qbz5n2kfra8p0\\localcache\\local-packages\\python312\\site-packages (from jinja2->torch) (3.0.2)\n"
     ]
    },
    {
     "name": "stderr",
     "output_type": "stream",
     "text": [
      "\n",
      "[notice] A new release of pip is available: 24.2 -> 25.0.1\n",
      "[notice] To update, run: python.exe -m pip install --upgrade pip\n"
     ]
    }
   ],
   "execution_count": 42
  },
  {
   "metadata": {
    "ExecuteTime": {
     "end_time": "2025-03-14T00:35:14.286922Z",
     "start_time": "2025-03-14T00:35:14.271924Z"
    }
   },
   "cell_type": "code",
   "source": [
    "import torch\n",
    "\n",
    "print(torch.cuda.device_count())"
   ],
   "outputs": [
    {
     "name": "stdout",
     "output_type": "stream",
     "text": [
      "0\n"
     ]
    }
   ],
   "execution_count": 43
  },
  {
   "metadata": {
    "ExecuteTime": {
     "end_time": "2025-03-14T00:37:35.238951Z",
     "start_time": "2025-03-14T00:37:34.606094Z"
    }
   },
   "cell_type": "code",
   "source": [
    "import numpy as np\n",
    "import matplotlib.pyplot as plt\n",
    "from sklearn.model_selection import train_test_split\n",
    "from sklearn.tree import DecisionTreeClassifier\n",
    "from sklearn.metrics import accuracy_score\n",
    "\n",
    "# Generate synthetic dataset\n",
    "from sklearn.datasets import make_classification\n",
    "X, y = make_classification(n_samples=1000, n_features=20, random_state=42)\n",
    "\n",
    "# Split into training and validation sets\n",
    "X_train, X_val, y_train, y_val = train_test_split(X, y, test_size=0.3, random_state=42)\n",
    "\n",
    "# Train a Decision Tree model\n",
    "model = DecisionTreeClassifier(max_depth=10, random_state=42)\n",
    "model.fit(X_train, y_train)\n",
    "\n",
    "# Compute training and validation accuracy\n",
    "train_acc = accuracy_score(y_train, model.predict(X_train))\n",
    "val_acc = accuracy_score(y_val, model.predict(X_val))\n",
    "\n",
    "# Detect overfitting: Large gap between train and val accuracy\n",
    "overfitting = train_acc - val_acc > 0.15  # Overfitting threshold\n",
    "\n",
    "print(f\"Training Accuracy: {train_acc:.4f}\")\n",
    "print(f\"Validation Accuracy: {val_acc:.4f}\")\n",
    "\n",
    "if overfitting:\n",
    "    print(\"⚠️ Possible Overfitting Detected: Large gap between training and validation accuracy!\")\n",
    "else:\n",
    "    print(\"✅ No significant overfitting detected.\")\n",
    "\n",
    "# Plot train vs validation accuracy\n",
    "plt.bar([\"Training\", \"Validation\"], [train_acc, val_acc], color=[\"blue\", \"red\"])\n",
    "plt.ylim(0, 1)\n",
    "plt.title(\"Model Accuracy: Training vs Validation\")\n",
    "plt.ylabel(\"Accuracy\")\n",
    "plt.show()\n"
   ],
   "outputs": [
    {
     "name": "stdout",
     "output_type": "stream",
     "text": [
      "Training Accuracy: 0.9986\n",
      "Validation Accuracy: 0.8467\n",
      "⚠️ Possible Overfitting Detected: Large gap between training and validation accuracy!\n"
     ]
    },
    {
     "data": {
      "text/plain": [
       "<Figure size 640x480 with 1 Axes>"
      ],
      "image/png": "[encoded data removed]"
     },
     "metadata": {},
     "output_type": "display_data"
    }
   ],
   "execution_count": 44
  }
 ],
 "metadata": {
  "kernelspec": {
   "display_name": "JBI010",
   "language": "python",
   "name": "python3"
  },
  "language_info": {
   "name": "python",
   "version": "3.10.12"
  }
 },
 "nbformat": 4,
 "nbformat_minor": 2
}
